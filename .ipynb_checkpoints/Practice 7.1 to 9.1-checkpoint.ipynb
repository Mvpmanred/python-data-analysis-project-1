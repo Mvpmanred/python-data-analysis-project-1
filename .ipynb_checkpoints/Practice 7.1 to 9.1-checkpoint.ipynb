{
 "cells": [
  {
   "cell_type": "markdown",
   "id": "d8caea8b",
   "metadata": {},
   "source": [
    "元组\n",
    "\n",
    "Python中元组里面的元素也是进行索引计算。但是列表跟元组有什么区别呢？\n",
    "一是列表里面的元素的值可以修改，而元组里面的元素的值不能修改，只能读取；\n",
    "区别二是列表的符号是[],而元组的符号是()。"
   ]
  },
  {
   "cell_type": "markdown",
   "id": "bc2c2870",
   "metadata": {},
   "source": [
    "练习7-1"
   ]
  },
  {
   "cell_type": "code",
   "execution_count": 5,
   "id": "6ae1ef66",
   "metadata": {},
   "outputs": [
    {
     "data": {
      "text/plain": [
       "1"
      ]
     },
     "execution_count": 5,
     "metadata": {},
     "output_type": "execute_result"
    }
   ],
   "source": [
    "# 元素是不可变的列表\n",
    "tup = (1,2,3)\n",
    "tup[0]"
   ]
  },
  {
   "cell_type": "code",
   "execution_count": 1,
   "id": "faef2b4f",
   "metadata": {},
   "outputs": [
    {
     "ename": "NameError",
     "evalue": "name 'tup' is not defined",
     "output_type": "error",
     "traceback": [
      "\u001b[1;31m---------------------------------------------------------------------------\u001b[0m",
      "\u001b[1;31mNameError\u001b[0m                                 Traceback (most recent call last)",
      "\u001b[1;32m~\\AppData\\Local\\Temp\\ipykernel_20132\\2811387021.py\u001b[0m in \u001b[0;36m<module>\u001b[1;34m\u001b[0m\n\u001b[1;32m----> 1\u001b[1;33m \u001b[0mtup\u001b[0m\u001b[1;33m[\u001b[0m\u001b[1;36m0\u001b[0m\u001b[1;33m]\u001b[0m \u001b[1;33m=\u001b[0m \u001b[1;36m3\u001b[0m\u001b[1;33m\u001b[0m\u001b[1;33m\u001b[0m\u001b[0m\n\u001b[0m",
      "\u001b[1;31mNameError\u001b[0m: name 'tup' is not defined"
     ]
    }
   ],
   "source": [
    "tup[0] = 3 "
   ]
  },
  {
   "cell_type": "code",
   "execution_count": 2,
   "id": "a41af8b8",
   "metadata": {},
   "outputs": [],
   "source": [
    "# 将列表转化为元组\n",
    "num = [1, 2, 3]"
   ]
  },
  {
   "cell_type": "code",
   "execution_count": 6,
   "id": "e6c42703",
   "metadata": {},
   "outputs": [
    {
     "data": {
      "text/plain": [
       "(1, 2, 3)"
      ]
     },
     "execution_count": 6,
     "metadata": {},
     "output_type": "execute_result"
    }
   ],
   "source": [
    "tuple(num)"
   ]
  },
  {
   "cell_type": "code",
   "execution_count": 7,
   "id": "7e68e7b4",
   "metadata": {},
   "outputs": [
    {
     "name": "stdout",
     "output_type": "stream",
     "text": [
      "3\n"
     ]
    }
   ],
   "source": [
    "# 大部分列表的操作都可以对元组执行\n",
    "print(len(tup))  # => 3"
   ]
  },
  {
   "cell_type": "code",
   "execution_count": 9,
   "id": "b03b63df",
   "metadata": {},
   "outputs": [
    {
     "name": "stdout",
     "output_type": "stream",
     "text": [
      "(1, 2, 3, 4, 5, 6)\n"
     ]
    }
   ],
   "source": [
    "print(tup +(4,5,6)) # => (1, 2, 3, 4, 5, 6)"
   ]
  },
  {
   "cell_type": "code",
   "execution_count": 11,
   "id": "7cf383d1",
   "metadata": {},
   "outputs": [
    {
     "name": "stdout",
     "output_type": "stream",
     "text": [
      "(1, 2)\n"
     ]
    }
   ],
   "source": [
    "print(tup[:2]) # => (1, 2)"
   ]
  },
  {
   "cell_type": "code",
   "execution_count": 12,
   "id": "2e1a9966",
   "metadata": {},
   "outputs": [
    {
     "name": "stdout",
     "output_type": "stream",
     "text": [
      "True\n"
     ]
    }
   ],
   "source": [
    "print(2 in tup)         # => True"
   ]
  },
  {
   "cell_type": "code",
   "execution_count": 13,
   "id": "f5cd98db",
   "metadata": {},
   "outputs": [
    {
     "name": "stdout",
     "output_type": "stream",
     "text": [
      "False\n"
     ]
    }
   ],
   "source": [
    "print (7 in tup)"
   ]
  },
  {
   "cell_type": "code",
   "execution_count": 14,
   "id": "4335e34b",
   "metadata": {},
   "outputs": [
    {
     "name": "stdout",
     "output_type": "stream",
     "text": [
      "<class 'int'>\n",
      "<class 'tuple'>\n",
      "<class 'tuple'>\n"
     ]
    }
   ],
   "source": [
    "# 注：一个单位长度的元组必须跟有一个逗号\n",
    "# 但是其他长度的元组则没有这个要求.\n",
    "print(type((1)))   # => <class 'int'>\n",
    "print(type((1,)))  # => <class 'tuple'>\n",
    "print(type(()))    # => <class 'tuple'>"
   ]
  },
  {
   "cell_type": "code",
   "execution_count": 15,
   "id": "229739db",
   "metadata": {},
   "outputs": [
    {
     "data": {
      "text/plain": [
       "str"
      ]
     },
     "execution_count": 15,
     "metadata": {},
     "output_type": "execute_result"
    }
   ],
   "source": [
    "type(('1'))"
   ]
  },
  {
   "cell_type": "code",
   "execution_count": 16,
   "id": "1a5831f9",
   "metadata": {},
   "outputs": [
    {
     "data": {
      "text/plain": [
       "tuple"
      ]
     },
     "execution_count": 16,
     "metadata": {},
     "output_type": "execute_result"
    }
   ],
   "source": [
    "type(('1',))"
   ]
  },
  {
   "cell_type": "markdown",
   "id": "8e17af80",
   "metadata": {},
   "source": [
    "常见问题\n",
    "元组的应用场景\n",
    "元组是否也和列表一样，保存的是对象的指引？\n",
    "元组的函数"
   ]
  },
  {
   "cell_type": "code",
   "execution_count": 40,
   "id": "7334e6e0",
   "metadata": {},
   "outputs": [
    {
     "name": "stdout",
     "output_type": "stream",
     "text": [
      "2483464632384\n",
      "(2, [55, 44, 33], 6)\n"
     ]
    }
   ],
   "source": [
    "t = (2, [55,44],6)\n",
    "print(id(t[1]))\n",
    "t[1].append(33)\n",
    "print (t)"
   ]
  },
  {
   "cell_type": "code",
   "execution_count": 35,
   "id": "e7d6a965",
   "metadata": {},
   "outputs": [
    {
     "name": "stdout",
     "output_type": "stream",
     "text": [
      "2483463757568\n"
     ]
    }
   ],
   "source": [
    "print(id(t[1]))"
   ]
  },
  {
   "cell_type": "code",
   "execution_count": 64,
   "id": "a94a90e3",
   "metadata": {},
   "outputs": [
    {
     "name": "stdout",
     "output_type": "stream",
     "text": [
      "2483363998032\n",
      "[2, [33, 34], 6]\n"
     ]
    }
   ],
   "source": [
    "F = [2, [33,34],6]\n",
    "print(id(F[0]))\n",
    "print (F)"
   ]
  },
  {
   "cell_type": "code",
   "execution_count": 65,
   "id": "3236960b",
   "metadata": {},
   "outputs": [
    {
     "name": "stdout",
     "output_type": "stream",
     "text": [
      "[2, [33, 34], 6, 0]\n"
     ]
    }
   ],
   "source": [
    "F.append(0)\n",
    "print (F)"
   ]
  },
  {
   "cell_type": "code",
   "execution_count": null,
   "id": "a9c4f1c0",
   "metadata": {},
   "outputs": [],
   "source": []
  },
  {
   "cell_type": "markdown",
   "id": "7807dc1c",
   "metadata": {},
   "source": [
    "练习7-2"
   ]
  },
  {
   "cell_type": "code",
   "execution_count": 66,
   "id": "ea38c683",
   "metadata": {},
   "outputs": [],
   "source": [
    "# 可以把元组（或列表）解包，赋值给变量\n",
    "a,b,c = (1,2,3) # 现在a是1，b是2，c是3"
   ]
  },
  {
   "cell_type": "code",
   "execution_count": 67,
   "id": "481952e6",
   "metadata": {},
   "outputs": [],
   "source": [
    "# 也可以扩展解包\n",
    "a, *b,c = (1,2,3,4) # 现在，a是1，b是[2, 3]， c是4"
   ]
  },
  {
   "cell_type": "code",
   "execution_count": 68,
   "id": "13a572f2",
   "metadata": {},
   "outputs": [
    {
     "name": "stdout",
     "output_type": "stream",
     "text": [
      "1 [2, 3] 4\n"
     ]
    }
   ],
   "source": [
    "print (a,b,c)"
   ]
  },
  {
   "cell_type": "code",
   "execution_count": 82,
   "id": "201ebbc2",
   "metadata": {},
   "outputs": [],
   "source": [
    "# 如果不添加括号，元组也是会自动生成的\n",
    "d, e, f = 4, 5, 6  # 元组4, 5, 6自动解包，赋值给变量d, e, f"
   ]
  },
  {
   "cell_type": "code",
   "execution_count": 83,
   "id": "9c4167b5",
   "metadata": {},
   "outputs": [
    {
     "name": "stdout",
     "output_type": "stream",
     "text": [
      "4 5 6\n"
     ]
    }
   ],
   "source": [
    "print (d,e,f)"
   ]
  },
  {
   "cell_type": "code",
   "execution_count": 84,
   "id": "66b3484e",
   "metadata": {},
   "outputs": [
    {
     "name": "stdout",
     "output_type": "stream",
     "text": [
      "5 4 6\n"
     ]
    }
   ],
   "source": [
    "# 分别是 d = 4, e = 5 and f = 6\n",
    "# 交换变量也极其方便\n",
    "e, d = d, e  # 现在，d是5，e是4\n",
    "print (d,e,f)"
   ]
  },
  {
   "cell_type": "code",
   "execution_count": 75,
   "id": "25077480",
   "metadata": {},
   "outputs": [],
   "source": [
    "# Example\n",
    "#stock_code, date, *price['sh000001', '2007-1-1', 15, 21, 17.2, 16.1]"
   ]
  },
  {
   "cell_type": "code",
   "execution_count": 77,
   "id": "069fab5f",
   "metadata": {},
   "outputs": [
    {
     "name": "stdout",
     "output_type": "stream",
     "text": [
      "1\n",
      "[2, 3]\n",
      "4\n"
     ]
    }
   ],
   "source": [
    "print(a)\n",
    "print(b)\n",
    "print(c)\n"
   ]
  },
  {
   "cell_type": "code",
   "execution_count": 79,
   "id": "b9878e4c",
   "metadata": {},
   "outputs": [
    {
     "data": {
      "text/plain": [
       "(10, 20)"
      ]
     },
     "execution_count": 79,
     "metadata": {},
     "output_type": "execute_result"
    }
   ],
   "source": [
    "10,20 # ,is tuple"
   ]
  },
  {
   "cell_type": "markdown",
   "id": "728e3865",
   "metadata": {},
   "source": [
    "常见问题\n",
    "解包的应用场景\n",
    "列表可以解包么"
   ]
  },
  {
   "cell_type": "code",
   "execution_count": null,
   "id": "902cd32e",
   "metadata": {},
   "outputs": [],
   "source": [
    "字典\n",
    "\n",
    "字典也叫做关联数组（key-value），用大括号{}括起来。\n",
    "字典的格式：dic={'name':'张三','home':'shanghai','like':'玩'}"
   ]
  },
  {
   "cell_type": "markdown",
   "id": "98d5b2bc",
   "metadata": {},
   "source": [
    "字典 (Dictionary)\n",
    "\n",
    "字典也叫做关联数组（key-value），用大括号{}括起来。\n",
    "字典的格式：dic={'name':'张三','home':'shanghai','like':'玩'}\n",
    "\n",
    "练习8-1"
   ]
  },
  {
   "cell_type": "code",
   "execution_count": 96,
   "id": "c8abaa8d",
   "metadata": {},
   "outputs": [],
   "source": [
    "# 字典表达key到value的映射关系\n",
    "emptyh_dict ={}\n",
    "# 下面是已填充的字典\n",
    "filled_dic = {'one':1, 'two':2, 'three':3}"
   ]
  },
  {
   "cell_type": "code",
   "execution_count": 97,
   "id": "348d6055",
   "metadata": {},
   "outputs": [
    {
     "data": {
      "text/plain": [
       "{'one': 1, 'two': '02', 'three': 3}"
      ]
     },
     "execution_count": 97,
     "metadata": {},
     "output_type": "execute_result"
    }
   ],
   "source": [
    "# 字典的key必须是不重复的\n",
    "# 如果出现重复，会保留其中一对key-value\n",
    "dict_var = {\"one\": 1, \"two\": 2, \"three\": 3, \"two\": '02'}\n",
    "dict_var"
   ]
  },
  {
   "cell_type": "code",
   "execution_count": 90,
   "id": "bdb8129d",
   "metadata": {},
   "outputs": [],
   "source": [
    "# 注：字典中的key必须是不可变的\n",
    "# 这是为了确保key可以用于迅速查找对应的哈希值 (unhashable type)\n",
    "# 不可变类型包括ints, floats, strings, tuples.\n",
    "valid_dict = {(1,2,3):[1,2,3]} # 但是value可以是任意类型的值"
   ]
  },
  {
   "cell_type": "markdown",
   "id": "7851be83",
   "metadata": {},
   "source": [
    "练习8-2"
   ]
  },
  {
   "cell_type": "code",
   "execution_count": 99,
   "id": "6fae9d94",
   "metadata": {},
   "outputs": [],
   "source": [
    "filled_dict = {\"one\": 1, \"two\": 2, \"three\": 3}"
   ]
  },
  {
   "cell_type": "code",
   "execution_count": 100,
   "id": "36cf91a9",
   "metadata": {},
   "outputs": [
    {
     "data": {
      "text/plain": [
       "{'one': 1, 'two': 2, 'three': 3}"
      ]
     },
     "execution_count": 100,
     "metadata": {},
     "output_type": "execute_result"
    }
   ],
   "source": [
    "filled_dict"
   ]
  },
  {
   "cell_type": "code",
   "execution_count": 101,
   "id": "3ad1e395",
   "metadata": {},
   "outputs": [
    {
     "data": {
      "text/plain": [
       "1"
      ]
     },
     "execution_count": 101,
     "metadata": {},
     "output_type": "execute_result"
    }
   ],
   "source": [
    "filled_dict['one']"
   ]
  },
  {
   "cell_type": "code",
   "execution_count": 102,
   "id": "c15cfb5c",
   "metadata": {},
   "outputs": [
    {
     "data": {
      "text/plain": [
       "{'one': '01', 'two': 2, 'three': 3}"
      ]
     },
     "execution_count": 102,
     "metadata": {},
     "output_type": "execute_result"
    }
   ],
   "source": [
    "filled_dict ['one']= '01'\n",
    "filled_dict"
   ]
  },
  {
   "cell_type": "code",
   "execution_count": 103,
   "id": "25990b47",
   "metadata": {},
   "outputs": [
    {
     "name": "stdout",
     "output_type": "stream",
     "text": [
      "True\n",
      "False\n"
     ]
    }
   ],
   "source": [
    "# 用in检查字典中是否含该键key\n",
    "print (\"one\" in filled_dict) # => True\n",
    "print (2 in filled_dict) # => False"
   ]
  },
  {
   "cell_type": "code",
   "execution_count": 104,
   "id": "0ee4237d",
   "metadata": {},
   "outputs": [
    {
     "name": "stdout",
     "output_type": "stream",
     "text": [
      "{'one': '01', 'two': 2, 'three': 3, 'four': 4, 1: 1}\n"
     ]
    }
   ],
   "source": [
    "# 增加元素\n",
    "filled_dict['four'] = 4\n",
    "filled_dict[1] = 1\n",
    "print(filled_dict)"
   ]
  },
  {
   "cell_type": "code",
   "execution_count": 105,
   "id": "6b2d90f8",
   "metadata": {},
   "outputs": [
    {
     "name": "stdout",
     "output_type": "stream",
     "text": [
      "{'one': '01', 'two': 2, 'three': 3, 'four': 4}\n"
     ]
    }
   ],
   "source": [
    "# 删除元素\n",
    "# 通过选定key来删除对应元素\n",
    "# 若key不存在，则会返回KeyError报错\n",
    "del filled_dict[1]\n",
    "print(filled_dict)"
   ]
  },
  {
   "cell_type": "code",
   "execution_count": 106,
   "id": "9e1ac849",
   "metadata": {},
   "outputs": [
    {
     "name": "stdout",
     "output_type": "stream",
     "text": [
      "{'one': '01', 'two': 2, 'three': 3}\n"
     ]
    }
   ],
   "source": [
    "del filled_dict['four']\n",
    "print(filled_dict)"
   ]
  },
  {
   "cell_type": "markdown",
   "id": "e19ebb23",
   "metadata": {},
   "source": [
    "练习8-3"
   ]
  },
  {
   "cell_type": "code",
   "execution_count": 134,
   "id": "be256caa",
   "metadata": {},
   "outputs": [
    {
     "name": "stdout",
     "output_type": "stream",
     "text": [
      "1\n",
      "None\n"
     ]
    }
   ],
   "source": [
    "# 查找元素\n",
    "# 用get()来查找元素，预防KeyError\n",
    "filled_dict = {\"one\": 1, \"two\": 2, \"three\": 3}\n",
    "print(filled_dict.get('one'))      # => 1\n",
    "print(filled_dict.get(\"four\"))     # => None"
   ]
  },
  {
   "cell_type": "code",
   "execution_count": 136,
   "id": "6d1853ad",
   "metadata": {},
   "outputs": [
    {
     "name": "stdout",
     "output_type": "stream",
     "text": [
      "1\n"
     ]
    },
    {
     "ename": "KeyError",
     "evalue": "'four'",
     "output_type": "error",
     "traceback": [
      "\u001b[1;31m---------------------------------------------------------------------------\u001b[0m",
      "\u001b[1;31mKeyError\u001b[0m                                  Traceback (most recent call last)",
      "\u001b[1;32m~\\AppData\\Local\\Temp\\ipykernel_20132\\1931773590.py\u001b[0m in \u001b[0;36m<module>\u001b[1;34m\u001b[0m\n\u001b[0;32m      1\u001b[0m \u001b[0mprint\u001b[0m\u001b[1;33m(\u001b[0m\u001b[0mfilled_dict\u001b[0m\u001b[1;33m[\u001b[0m\u001b[1;34m'one'\u001b[0m\u001b[1;33m]\u001b[0m\u001b[1;33m)\u001b[0m\u001b[1;33m\u001b[0m\u001b[1;33m\u001b[0m\u001b[0m\n\u001b[1;32m----> 2\u001b[1;33m \u001b[0mprint\u001b[0m\u001b[1;33m(\u001b[0m\u001b[0mfilled_dict\u001b[0m\u001b[1;33m[\u001b[0m\u001b[1;34m'four'\u001b[0m\u001b[1;33m]\u001b[0m\u001b[1;33m)\u001b[0m\u001b[1;33m\u001b[0m\u001b[1;33m\u001b[0m\u001b[0m\n\u001b[0m",
      "\u001b[1;31mKeyError\u001b[0m: 'four'"
     ]
    }
   ],
   "source": [
    "print(filled_dict['one'])\n",
    "print(filled_dict['four'])"
   ]
  },
  {
   "cell_type": "code",
   "execution_count": 137,
   "id": "b31a34ee",
   "metadata": {},
   "outputs": [
    {
     "name": "stdout",
     "output_type": "stream",
     "text": [
      "1\n",
      "4\n"
     ]
    }
   ],
   "source": [
    "# 当键不存在的时候get方法可以返回默认值\n",
    "print(filled_dict.get(\"one\", 4))   # => 1\n",
    "print(filled_dict.get(\"four\", 4))  # => 4"
   ]
  },
  {
   "cell_type": "code",
   "execution_count": 144,
   "id": "48ef4cb5",
   "metadata": {},
   "outputs": [
    {
     "data": {
      "text/plain": [
       "{'one': 1, 'two': 2, 'three': '03'}"
      ]
     },
     "execution_count": 144,
     "metadata": {},
     "output_type": "execute_result"
    }
   ],
   "source": [
    "# get()函数并未更改原对象\n",
    "filled_dict"
   ]
  },
  {
   "cell_type": "code",
   "execution_count": 145,
   "id": "0042da17",
   "metadata": {},
   "outputs": [
    {
     "data": {
      "text/plain": [
       "{'one': 1, 'two': 2, 'three': '03'}"
      ]
     },
     "execution_count": 145,
     "metadata": {},
     "output_type": "execute_result"
    }
   ],
   "source": [
    "# 更改元素\n",
    "# update()字典赋值\n",
    "filled_dict.update({\"three\":'03'})  # filled_dict[\"four\"] = 4.0 \n",
    "filled_dict"
   ]
  },
  {
   "cell_type": "code",
   "execution_count": 146,
   "id": "c9cc756b",
   "metadata": {},
   "outputs": [
    {
     "data": {
      "text/plain": [
       "{'one': 1, 'two': 2, 'three': '03', 'five': 5}"
      ]
     },
     "execution_count": 146,
     "metadata": {},
     "output_type": "execute_result"
    }
   ],
   "source": [
    "# 添加元素\n",
    "# setdefault()方法只有当键不存在的时候插入新值\n",
    "filled_dict.setdefault(\"five\", 5)  # filled_dict[\"five\"] = 5\n",
    "filled_dict"
   ]
  },
  {
   "cell_type": "code",
   "execution_count": 147,
   "id": "7b6b4d6f",
   "metadata": {},
   "outputs": [
    {
     "data": {
      "text/plain": [
       "5"
      ]
     },
     "execution_count": 147,
     "metadata": {},
     "output_type": "execute_result"
    }
   ],
   "source": [
    "filled_dict.setdefault(\"five\", 6)  # filled_dict[\"five\"]依旧为5\n",
    "filled_dict[\"five\"]"
   ]
  },
  {
   "cell_type": "code",
   "execution_count": 118,
   "id": "f4b8cc05",
   "metadata": {},
   "outputs": [
    {
     "name": "stdout",
     "output_type": "stream",
     "text": [
      "{'a': 1, 'b': 2}\n",
      "{'a': 2}\n"
     ]
    }
   ],
   "source": [
    "# 从Python3.5开始，可以用(**)解包方法添加和更改值\n",
    "print({'a': 1, **{'b': 2}})  # => {'a': 1, 'b': 2}\n",
    "print({'a': 1, **{'a': 2}})  # => {'a': 2}"
   ]
  },
  {
   "cell_type": "code",
   "execution_count": 148,
   "id": "448612cd",
   "metadata": {},
   "outputs": [
    {
     "name": "stdout",
     "output_type": "stream",
     "text": [
      "{'one': 1, 'two': 2, 'three': '03'}\n"
     ]
    }
   ],
   "source": [
    "# 删除元素\n",
    "# 用pop()函数删除指定元素\n",
    "filled_dict.pop('five')\n",
    "print(filled_dict)"
   ]
  },
  {
   "cell_type": "code",
   "execution_count": 149,
   "id": "02cab0de",
   "metadata": {},
   "outputs": [
    {
     "data": {
      "text/plain": [
       "('three', '03')"
      ]
     },
     "execution_count": 149,
     "metadata": {},
     "output_type": "execute_result"
    }
   ],
   "source": [
    "filled_dict.popitem()  # 删除并返回被删除的某对key-value，返回值为元祖格式"
   ]
  },
  {
   "cell_type": "code",
   "execution_count": 152,
   "id": "1b8643c2",
   "metadata": {},
   "outputs": [
    {
     "data": {
      "text/plain": [
       "<function dict.values>"
      ]
     },
     "execution_count": 152,
     "metadata": {},
     "output_type": "execute_result"
    }
   ],
   "source": [
    "filled_dict.values"
   ]
  },
  {
   "cell_type": "markdown",
   "id": "448dfc34",
   "metadata": {},
   "source": [
    "练习8-4"
   ]
  },
  {
   "cell_type": "code",
   "execution_count": 156,
   "id": "1b0bd8ee",
   "metadata": {},
   "outputs": [
    {
     "data": {
      "text/plain": [
       "['sh000001', 'sh000002', 'sz000006']"
      ]
     },
     "execution_count": 156,
     "metadata": {},
     "output_type": "execute_result"
    }
   ],
   "source": [
    "# 用keys()获取所有的key，返回的结果是可迭代的。\n",
    "# 用list()将返回的结果包裹起来，形成一个列表。\n",
    "# 注：在低于Python3.7的版本中，字典的键值是无序的，所返回的key顺序不一定与你的样例匹配\n",
    "# 但在Python3.7中，key的顺序被保留了下来\n",
    "\n",
    "filled_dict = {\"sh000001\": [16,15.9,16.2], \n",
    "               \"sh000002\": [25.1, 26, 28.5], \n",
    "               \"sz000006\": [30, 27, 25]}\n",
    "list(filled_dict.keys()) # => [\"three\", \"two\", \"one\"] in Python <3.7\n",
    "                        # => [\"one\", \"two\", \"three\"] in Python 3.7+"
   ]
  },
  {
   "cell_type": "code",
   "execution_count": 158,
   "id": "6df5a1fd",
   "metadata": {},
   "outputs": [
    {
     "data": {
      "text/plain": [
       "dict_keys(['sh000001', 'sh000002', 'sz000006'])"
      ]
     },
     "execution_count": 158,
     "metadata": {},
     "output_type": "execute_result"
    }
   ],
   "source": [
    "filled_dict.keys()"
   ]
  },
  {
   "cell_type": "code",
   "execution_count": 155,
   "id": "7077b5c8",
   "metadata": {},
   "outputs": [
    {
     "data": {
      "text/plain": [
       "[[16, 15.9, 16.2], [25.1, 26, 28.5], [30, 27, 25]]"
      ]
     },
     "execution_count": 155,
     "metadata": {},
     "output_type": "execute_result"
    }
   ],
   "source": [
    "# 用values()获取可迭代的值.\n",
    "# 同样需要用list()包裹住结果\n",
    "# 注：关于顺序的问题可参考key\n",
    "list(filled_dict.values())  \n",
    "# => [3, 2, 1]  in Python <3.7\n",
    "# => [1, 2, 3] in Python 3.7+"
   ]
  },
  {
   "cell_type": "code",
   "execution_count": 161,
   "id": "22d2de2a",
   "metadata": {},
   "outputs": [
    {
     "name": "stdout",
     "output_type": "stream",
     "text": [
      "dict_items([('sh000001', [16, 15.9, 16.2]), ('sh000002', [25.1, 26, 28.5]), ('sz000006', [30, 27, 25])])\n",
      "\n",
      "key: sh000001\n",
      "value: [16, 15.9, 16.2]\n",
      "\n",
      "key: sh000002\n",
      "value: [25.1, 26, 28.5]\n",
      "\n",
      "key: sz000006\n",
      "value: [30, 27, 25]\n"
     ]
    }
   ],
   "source": [
    "# 分别获取keys和values可通过items()\n",
    "print(filled_dict.items())\n",
    "for k,v in filled_dict.items():\n",
    "    print('\\nkey:', k)\n",
    "    print('value:', v)"
   ]
  },
  {
   "cell_type": "markdown",
   "id": "e269db07",
   "metadata": {},
   "source": [
    "集合(Set)\n",
    "\n",
    "练习9-1"
   ]
  },
  {
   "cell_type": "code",
   "execution_count": 163,
   "id": "679710df",
   "metadata": {},
   "outputs": [
    {
     "data": {
      "text/plain": [
       "{1, 2, 3, 4}"
      ]
     },
     "execution_count": 163,
     "metadata": {},
     "output_type": "execute_result"
    }
   ],
   "source": [
    "# 用set表示集合\n",
    "empty_set = set () # 初始化一个集合，其语法看起来和字典很像\n",
    "some_set = {1,1,2,2,3,4} # some_set现在是{1, 2, 3, 4}\n",
    "some_set"
   ]
  },
  {
   "cell_type": "code",
   "execution_count": 164,
   "id": "369dec15",
   "metadata": {},
   "outputs": [
    {
     "data": {
      "text/plain": [
       "[1, 2, 4, 5, 6, 7]"
      ]
     },
     "execution_count": 164,
     "metadata": {},
     "output_type": "execute_result"
    }
   ],
   "source": [
    "list(set([1,2,4,5,6,7,4,1]))"
   ]
  },
  {
   "cell_type": "code",
   "execution_count": 165,
   "id": "8e3df555",
   "metadata": {},
   "outputs": [],
   "source": [
    "# 和字典的key性质相似，集合的元素必须是不可变的"
   ]
  },
  {
   "cell_type": "code",
   "execution_count": 166,
   "id": "769f9c51",
   "metadata": {},
   "outputs": [
    {
     "data": {
      "text/plain": [
       "{(1,), 1}"
      ]
     },
     "execution_count": 166,
     "metadata": {},
     "output_type": "execute_result"
    }
   ],
   "source": [
    "valid_set = {(1,), 1}\n",
    "valid_set"
   ]
  },
  {
   "cell_type": "code",
   "execution_count": 167,
   "id": "2a628d8a",
   "metadata": {},
   "outputs": [
    {
     "data": {
      "text/plain": [
       "{1, 2, 3, 4, 5}"
      ]
     },
     "execution_count": 167,
     "metadata": {},
     "output_type": "execute_result"
    }
   ],
   "source": [
    "# 为集合添加元素 add\n",
    "filled_set = some_set.copy()\n",
    "filled_set.add(5)  # filled_set现在是{1, 2, 3, 4, 5}\n",
    "filled_set"
   ]
  },
  {
   "cell_type": "code",
   "execution_count": 168,
   "id": "baad9f6f",
   "metadata": {},
   "outputs": [
    {
     "data": {
      "text/plain": [
       "{1, 2, 3, 4, 5}"
      ]
     },
     "execution_count": 168,
     "metadata": {},
     "output_type": "execute_result"
    }
   ],
   "source": [
    "# 集合的元素是去重的\n",
    "filled_set.add(5)  # it remains as before {1, 2, 3, 4, 5}\n",
    "filled_set"
   ]
  },
  {
   "cell_type": "markdown",
   "id": "ebd32c5f",
   "metadata": {},
   "source": [
    " "
   ]
  },
  {
   "cell_type": "code",
   "execution_count": null,
   "id": "db33e658",
   "metadata": {},
   "outputs": [],
   "source": []
  },
  {
   "cell_type": "code",
   "execution_count": null,
   "id": "ab8d68e4",
   "metadata": {},
   "outputs": [],
   "source": []
  },
  {
   "cell_type": "code",
   "execution_count": null,
   "id": "04dd8acb",
   "metadata": {},
   "outputs": [],
   "source": []
  },
  {
   "cell_type": "code",
   "execution_count": null,
   "id": "3c36c871",
   "metadata": {},
   "outputs": [],
   "source": []
  },
  {
   "cell_type": "code",
   "execution_count": null,
   "id": "300bc242",
   "metadata": {},
   "outputs": [],
   "source": []
  },
  {
   "cell_type": "code",
   "execution_count": null,
   "id": "6186d8dc",
   "metadata": {},
   "outputs": [],
   "source": []
  },
  {
   "cell_type": "code",
   "execution_count": null,
   "id": "d0c23f5a",
   "metadata": {},
   "outputs": [],
   "source": []
  },
  {
   "cell_type": "code",
   "execution_count": null,
   "id": "2106ad32",
   "metadata": {},
   "outputs": [],
   "source": []
  },
  {
   "cell_type": "code",
   "execution_count": null,
   "id": "deab67d9",
   "metadata": {},
   "outputs": [],
   "source": []
  },
  {
   "cell_type": "code",
   "execution_count": null,
   "id": "a5f6d4b5",
   "metadata": {},
   "outputs": [],
   "source": []
  },
  {
   "cell_type": "code",
   "execution_count": null,
   "id": "8702471a",
   "metadata": {},
   "outputs": [],
   "source": []
  },
  {
   "cell_type": "code",
   "execution_count": null,
   "id": "6471aacf",
   "metadata": {},
   "outputs": [],
   "source": []
  },
  {
   "cell_type": "code",
   "execution_count": null,
   "id": "004d4321",
   "metadata": {},
   "outputs": [],
   "source": []
  },
  {
   "cell_type": "code",
   "execution_count": null,
   "id": "1ac122d2",
   "metadata": {},
   "outputs": [],
   "source": []
  },
  {
   "cell_type": "code",
   "execution_count": null,
   "id": "13ead595",
   "metadata": {},
   "outputs": [],
   "source": []
  },
  {
   "cell_type": "code",
   "execution_count": null,
   "id": "9920841a",
   "metadata": {},
   "outputs": [],
   "source": []
  },
  {
   "cell_type": "code",
   "execution_count": null,
   "id": "ebdf4c15",
   "metadata": {},
   "outputs": [],
   "source": []
  },
  {
   "cell_type": "code",
   "execution_count": null,
   "id": "cf4e7085",
   "metadata": {},
   "outputs": [],
   "source": []
  },
  {
   "cell_type": "code",
   "execution_count": null,
   "id": "683545e7",
   "metadata": {},
   "outputs": [],
   "source": []
  },
  {
   "cell_type": "code",
   "execution_count": null,
   "id": "d4ef6c22",
   "metadata": {},
   "outputs": [],
   "source": []
  },
  {
   "cell_type": "code",
   "execution_count": null,
   "id": "cb879fc5",
   "metadata": {},
   "outputs": [],
   "source": []
  },
  {
   "cell_type": "code",
   "execution_count": null,
   "id": "7ef65e9d",
   "metadata": {},
   "outputs": [],
   "source": []
  },
  {
   "cell_type": "code",
   "execution_count": null,
   "id": "abff58ac",
   "metadata": {},
   "outputs": [],
   "source": []
  },
  {
   "cell_type": "code",
   "execution_count": null,
   "id": "be90f23b",
   "metadata": {},
   "outputs": [],
   "source": []
  },
  {
   "cell_type": "code",
   "execution_count": null,
   "id": "32fc1bf9",
   "metadata": {},
   "outputs": [],
   "source": []
  },
  {
   "cell_type": "code",
   "execution_count": null,
   "id": "14d54e2f",
   "metadata": {},
   "outputs": [],
   "source": []
  },
  {
   "cell_type": "code",
   "execution_count": null,
   "id": "57e344ff",
   "metadata": {},
   "outputs": [],
   "source": []
  },
  {
   "cell_type": "code",
   "execution_count": null,
   "id": "cab9f4d1",
   "metadata": {},
   "outputs": [],
   "source": []
  },
  {
   "cell_type": "code",
   "execution_count": null,
   "id": "e018de9e",
   "metadata": {},
   "outputs": [],
   "source": []
  },
  {
   "cell_type": "code",
   "execution_count": null,
   "id": "dea36e97",
   "metadata": {},
   "outputs": [],
   "source": []
  },
  {
   "cell_type": "code",
   "execution_count": null,
   "id": "36e4775d",
   "metadata": {},
   "outputs": [],
   "source": []
  },
  {
   "cell_type": "code",
   "execution_count": null,
   "id": "3a7723b7",
   "metadata": {},
   "outputs": [],
   "source": []
  },
  {
   "cell_type": "code",
   "execution_count": null,
   "id": "f3750ba4",
   "metadata": {},
   "outputs": [],
   "source": []
  },
  {
   "cell_type": "code",
   "execution_count": null,
   "id": "c47601d4",
   "metadata": {},
   "outputs": [],
   "source": []
  },
  {
   "cell_type": "code",
   "execution_count": null,
   "id": "1add7c9c",
   "metadata": {},
   "outputs": [],
   "source": []
  },
  {
   "cell_type": "code",
   "execution_count": null,
   "id": "3e0d9d7a",
   "metadata": {},
   "outputs": [],
   "source": []
  },
  {
   "cell_type": "code",
   "execution_count": null,
   "id": "e23dff08",
   "metadata": {},
   "outputs": [],
   "source": []
  },
  {
   "cell_type": "code",
   "execution_count": null,
   "id": "3553bd94",
   "metadata": {},
   "outputs": [],
   "source": []
  },
  {
   "cell_type": "code",
   "execution_count": null,
   "id": "c1bdae07",
   "metadata": {},
   "outputs": [],
   "source": []
  },
  {
   "cell_type": "code",
   "execution_count": null,
   "id": "520ed2ef",
   "metadata": {},
   "outputs": [],
   "source": []
  },
  {
   "cell_type": "code",
   "execution_count": null,
   "id": "fc505387",
   "metadata": {},
   "outputs": [],
   "source": []
  },
  {
   "cell_type": "code",
   "execution_count": null,
   "id": "5caab2c5",
   "metadata": {},
   "outputs": [],
   "source": []
  },
  {
   "cell_type": "code",
   "execution_count": null,
   "id": "433ffd80",
   "metadata": {},
   "outputs": [],
   "source": []
  },
  {
   "cell_type": "code",
   "execution_count": null,
   "id": "197e5f34",
   "metadata": {},
   "outputs": [],
   "source": []
  },
  {
   "cell_type": "code",
   "execution_count": null,
   "id": "b544fc39",
   "metadata": {},
   "outputs": [],
   "source": []
  },
  {
   "cell_type": "code",
   "execution_count": null,
   "id": "d5dbad47",
   "metadata": {},
   "outputs": [],
   "source": []
  },
  {
   "cell_type": "code",
   "execution_count": null,
   "id": "bbdd9303",
   "metadata": {},
   "outputs": [],
   "source": []
  },
  {
   "cell_type": "code",
   "execution_count": null,
   "id": "48fa1ee8",
   "metadata": {},
   "outputs": [],
   "source": []
  }
 ],
 "metadata": {
  "kernelspec": {
   "display_name": "Python 3 (ipykernel)",
   "language": "python",
   "name": "python3"
  },
  "language_info": {
   "codemirror_mode": {
    "name": "ipython",
    "version": 3
   },
   "file_extension": ".py",
   "mimetype": "text/x-python",
   "name": "python",
   "nbconvert_exporter": "python",
   "pygments_lexer": "ipython3",
   "version": "3.9.13"
  }
 },
 "nbformat": 4,
 "nbformat_minor": 5
}
