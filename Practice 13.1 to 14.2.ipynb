{
 "cells": [
  {
   "cell_type": "markdown",
   "id": "54cc37cd",
   "metadata": {},
   "source": [
    "while循环语法如下：\n",
    "\n",
    "while 条件:\n",
    "    执行循环语句\n",
    "    ...\n",
    "while循环解释说明如下：\n",
    "\n",
    "判断条件，若条件为False，则循环结束\n",
    "判断条件，若条件为True，则执行循环语句\n",
    "执行完循环语句内容后，再次判断条件，重复上面步骤，直至条件不成立"
   ]
  },
  {
   "cell_type": "markdown",
   "id": "ed91f4cf",
   "metadata": {},
   "source": [
    "练习13-1"
   ]
  },
  {
   "cell_type": "code",
   "execution_count": 8,
   "id": "e0104f5b",
   "metadata": {},
   "outputs": [
    {
     "name": "stdout",
     "output_type": "stream",
     "text": [
      "looping\n"
     ]
    }
   ],
   "source": [
    "#dead loop\n",
    "\n",
    "a = True\n",
    "while a:\n",
    "    print('looping')\n",
    "    a = False"
   ]
  },
  {
   "cell_type": "code",
   "execution_count": 10,
   "id": "39d63024",
   "metadata": {},
   "outputs": [
    {
     "name": "stdout",
     "output_type": "stream",
     "text": [
      "1\n",
      "1\n",
      "2\n",
      "3\n",
      "3\n",
      "6\n",
      "4\n",
      "10\n",
      "5\n",
      "15\n",
      "6\n",
      "21\n",
      "7\n",
      "28\n",
      "8\n",
      "36\n",
      "9\n",
      "45\n",
      "10\n",
      "55\n"
     ]
    }
   ],
   "source": [
    "i = 0\n",
    "sum_all = 0\n",
    "while i < 10:\n",
    "    i += 1 #i = i +1\n",
    "    print(i)\n",
    "    sum_all += i # sum_all = sum_all + 1\n",
    "    print(sum_all)"
   ]
  },
  {
   "cell_type": "code",
   "execution_count": 4,
   "id": "edb19b4b",
   "metadata": {},
   "outputs": [
    {
     "name": "stdout",
     "output_type": "stream",
     "text": [
      "2 1\n",
      "3 3\n",
      "4 6\n",
      "5 10\n",
      "6 15\n",
      "7 21\n",
      "8 28\n",
      "9 36\n",
      "10 45\n",
      "11 55\n",
      "looping end: 55 11 10\n"
     ]
    }
   ],
   "source": [
    "#calculate 1+2+3+....+10\n",
    "num =1\n",
    "max_num=10\n",
    "sum_result = 0 #result\n",
    "\n",
    "while num <= max_num:\n",
    "    sum_result +=num\n",
    "    num += 1\n",
    "    print (num, sum_result)\n",
    "print('looping end:',sum_result, num, max_num)"
   ]
  },
  {
   "cell_type": "markdown",
   "id": "3f182b75",
   "metadata": {},
   "source": [
    " While vs For loop\n"
   ]
  },
  {
   "cell_type": "markdown",
   "id": "4d4c9d65",
   "metadata": {},
   "source": [
    "13-2"
   ]
  },
  {
   "cell_type": "code",
   "execution_count": 19,
   "id": "8b311208",
   "metadata": {},
   "outputs": [
    {
     "name": "stdout",
     "output_type": "stream",
     "text": [
      "1 2\n",
      "====\n",
      "3 3\n",
      "====\n",
      "6 4\n",
      "====\n",
      "10 5\n",
      "====\n",
      "15 6\n",
      "====\n",
      "21 7\n",
      "====\n",
      "28 8\n",
      "====\n",
      "36 9\n",
      "====\n",
      "45 10\n",
      "====\n",
      "55 11\n",
      "====\n"
     ]
    }
   ],
   "source": [
    "#break\n",
    "#计算 1+2+3+......+10\n",
    "\n",
    "num = 1\n",
    "max_num = 10\n",
    "sum_result = 0\n",
    "flag = True #使用标志\n",
    "while flag:\n",
    "    sum_result += num\n",
    "    num += 1\n",
    "    print(sum_result, num)\n",
    "    if num == max_num + 1:\n",
    "        flag = False\n",
    "        #break # get out of loop, for\n",
    "    print('====')"
   ]
  },
  {
   "cell_type": "code",
   "execution_count": 10,
   "id": "dc92e121",
   "metadata": {},
   "outputs": [
    {
     "name": "stdout",
     "output_type": "stream",
     "text": [
      "1 1\n",
      "2 3\n",
      "3 6\n",
      "4 10\n",
      "5 15\n",
      "6 21\n",
      "7 28\n",
      "8 36\n",
      "9 45\n",
      "10 55\n",
      "END\n"
     ]
    }
   ],
   "source": [
    "i =0 \n",
    "sum_res1 = 0\n",
    "flag = True\n",
    "\n",
    "while flag:\n",
    "    i += 1\n",
    "    sum_res1 += i\n",
    "    print(i, sum_res1)\n",
    "    if i == 10:\n",
    "        break\n",
    "print(\"END\")"
   ]
  },
  {
   "cell_type": "code",
   "execution_count": 25,
   "id": "124ce1bf",
   "metadata": {},
   "outputs": [
    {
     "name": "stdout",
     "output_type": "stream",
     "text": [
      "55\n"
     ]
    }
   ],
   "source": [
    "max_num = 10\n",
    "sum_result2 = 0\n",
    "for i in range (1, max_num+1):\n",
    "    sum_result2 += i\n",
    "\n",
    "print(sum_result2)"
   ]
  },
  {
   "cell_type": "code",
   "execution_count": 27,
   "id": "e556c276",
   "metadata": {},
   "outputs": [
    {
     "name": "stdout",
     "output_type": "stream",
     "text": [
      "1\n",
      "2\n",
      "3\n",
      "4\n",
      "5\n",
      "6\n",
      "7\n",
      "8\n",
      "9\n",
      "11\n",
      "12\n",
      "13\n",
      "14\n",
      "15\n",
      "16\n",
      "17\n",
      "18\n",
      "19\n",
      "20\n"
     ]
    }
   ],
   "source": [
    "i = 0\n",
    "while i < 20:\n",
    "    i += 1\n",
    "    if i == 10:\n",
    "        continue\n",
    "   \n",
    "    print(i)"
   ]
  },
  {
   "cell_type": "code",
   "execution_count": 24,
   "id": "3556b67f",
   "metadata": {},
   "outputs": [
    {
     "name": "stdout",
     "output_type": "stream",
     "text": [
      "1 1\n",
      "3 2\n",
      "6 3\n",
      "10 4\n",
      "15 5\n",
      "21 6\n",
      "28 7\n",
      "36 8\n",
      "45 9\n",
      "56 11\n",
      "68 12\n",
      "81 13\n",
      "95 14\n",
      "110 15\n",
      "126 16\n",
      "143 17\n",
      "161 18\n",
      "180 19\n",
      "200 20\n"
     ]
    }
   ],
   "source": [
    "# continue\n",
    "# 计算1+2+3+..9+11+12+..+19+20\n",
    "num = 0\n",
    "max_num = 20\n",
    "skip_num = 10\n",
    "sum_result = 0\n",
    "while num<max_num:\n",
    "    num += 1   \n",
    "    if num == skip_num:\n",
    "        continue  # 直接进入到下次循环\n",
    "    sum_result += num\n",
    "    print(sum_result, num)"
   ]
  },
  {
   "cell_type": "code",
   "execution_count": 28,
   "id": "dbef3b17",
   "metadata": {},
   "outputs": [
    {
     "name": "stdout",
     "output_type": "stream",
     "text": [
      "1 1\n",
      "3 2\n",
      "6 3\n",
      "10 4\n",
      "16 6\n",
      "23 7\n",
      "31 8\n",
      "40 9\n",
      "50 10\n"
     ]
    }
   ],
   "source": [
    "num = 0\n",
    "max_num = 10\n",
    "skip_num = 5\n",
    "sum_result3 = 0\n",
    "while num < max_num:\n",
    "    num += 1\n",
    "    if num == skip_num:\n",
    "        continue\n",
    "    sum_result3 += num\n",
    "    print (sum_result3, num)"
   ]
  },
  {
   "cell_type": "code",
   "execution_count": 30,
   "id": "f66cc8e5",
   "metadata": {},
   "outputs": [
    {
     "name": "stdout",
     "output_type": "stream",
     "text": [
      "1 1\n",
      "3 2\n",
      "6 3\n",
      "10 4\n",
      "15 5\n",
      "21 6\n",
      "28 7\n",
      "36 8\n",
      "45 9\n",
      "45\n"
     ]
    }
   ],
   "source": [
    "max_num =20\n",
    "skip_num =10\n",
    "sum_result4 = 0\n",
    "for i in range (1, max_num +1):\n",
    "    if i == skip_num:\n",
    "        break\n",
    "    sum_result4 += i\n",
    "    print(sum_result4, i)\n",
    "print(sum_result4)"
   ]
  },
  {
   "cell_type": "markdown",
   "id": "3bf9ed88",
   "metadata": {},
   "source": [
    "14-1"
   ]
  },
  {
   "cell_type": "markdown",
   "id": "57b0f0d2",
   "metadata": {},
   "source": [
    "Try/except"
   ]
  },
  {
   "cell_type": "code",
   "execution_count": 39,
   "id": "4d0296fe",
   "metadata": {},
   "outputs": [
    {
     "name": "stdout",
     "output_type": "stream",
     "text": [
      "This is an index error\n",
      "We can clean up resources here\n"
     ]
    }
   ],
   "source": [
    "try:\n",
    "    #i = 10\n",
    "   # assert i == 100\n",
    "    raise IndexError (\"This is an index error\")\n",
    "except IndexError as e:\n",
    "    print(e)\n",
    "except (TypeError, NameError):\n",
    "    pass\n",
    "else:\n",
    "    print(\"All good!\")\n",
    "finally:\n",
    "    print(\"We can clean up resources here\")"
   ]
  },
  {
   "cell_type": "code",
   "execution_count": 38,
   "id": "195e8737",
   "metadata": {},
   "outputs": [
    {
     "name": "stdout",
     "output_type": "stream",
     "text": [
      "All good!\n",
      "We can clean up resources here\n"
     ]
    }
   ],
   "source": [
    "# 用try/except块处理异常状况\n",
    "try:\n",
    "    i = 10\n",
    "    # 用 \"raise\" 抛出异常\n",
    "    # raise IndexError(\"This is an index error\")\n",
    "except IndexError as e:\n",
    "    print(e)                 # 通常应该在这里处理错误\n",
    "except (TypeError, NameError):\n",
    "    pass                 # pass是无操作，可以同时处理不同类的错误\n",
    "else:                    # try/except块的可选条件，必须跟在except后\n",
    "    print(\"All good!\")   # 只有当try运行完没有错误的时候，才会运行这一句\n",
    "finally:                 # 在所有情况下都会执行\n",
    "    print(\"We can clean up resources here\")"
   ]
  },
  {
   "cell_type": "markdown",
   "id": "80ed4920",
   "metadata": {},
   "source": [
    "14-2"
   ]
  },
  {
   "cell_type": "code",
   "execution_count": 4,
   "id": "88c368eb",
   "metadata": {},
   "outputs": [
    {
     "name": "stdout",
     "output_type": "stream",
     "text": [
      "6\n"
     ]
    }
   ],
   "source": [
    "import random\n",
    "import time\n",
    "error_page = random.randint (1,10)\n",
    "print(error_page)"
   ]
  },
  {
   "cell_type": "code",
   "execution_count": 5,
   "id": "6c418045",
   "metadata": {},
   "outputs": [
    {
     "name": "stdout",
     "output_type": "stream",
     "text": [
      "访问Yahoo finance.com，第1页\n",
      "抓取第1页的数据\n",
      "访问Yahoo finance.com，第2页\n",
      "抓取第2页的数据\n",
      "访问Yahoo finance.com，第3页\n",
      "抓取第3页的数据\n",
      "访问Yahoo finance.com，第4页\n",
      "抓取第4页的数据\n",
      "访问Yahoo finance.com，第5页\n",
      "抓取第5页的数据\n",
      "访问Yahoo finance.com，第6页\n",
      "访问Yahoo finance.com，第6页\n",
      "访问Yahoo finance.com，第6页\n",
      "保存数据[1, 2, 3, 4, 5]到本地\n"
     ]
    }
   ],
   "source": [
    "url = 'Yahoo finance.com'\n",
    "page = 1\n",
    "flag = True\n",
    "data = []\n",
    "while flag:\n",
    "    for i in range(3):\n",
    "        try:\n",
    "            print(f'访问{url}，第{page}页')\n",
    "            assert page != error_page\n",
    "        except:\n",
    "            time.sleep(3)\n",
    "        else:\n",
    "            print(f'抓取第{page}页的数据')\n",
    "            break\n",
    "    else:\n",
    "        break\n",
    "    data.append(page)\n",
    "    page += 1\n",
    "\n",
    "print(f'保存数据{data}到本地')"
   ]
  },
  {
   "cell_type": "code",
   "execution_count": 8,
   "id": "7237c227",
   "metadata": {},
   "outputs": [
    {
     "name": "stdout",
     "output_type": "stream",
     "text": [
      "==========\n",
      "构造url链接\n",
      "正在访问第1页\n",
      "访问url链接\n",
      "获取数据，传给变量\n",
      "访问成功\n",
      "==========\n",
      "构造url链接\n",
      "正在访问第2页\n",
      "访问url链接\n",
      "获取数据，传给变量\n",
      "访问成功\n",
      "==========\n",
      "构造url链接\n",
      "正在访问第3页\n",
      "访问url链接\n",
      "获取数据，传给变量\n",
      "访问成功\n",
      "==========\n",
      "构造url链接\n",
      "正在访问第4页\n",
      "访问url链接\n",
      "获取数据，传给变量\n",
      "访问成功\n",
      "==========\n",
      "构造url链接\n",
      "正在访问第5页\n",
      "访问url链接\n",
      "获取数据，传给变量\n",
      "访问成功\n",
      "==========\n",
      "构造url链接\n",
      "正在访问第6页\n",
      "访问url链接\n",
      "第1此访问失败，等待3秒后尝试\n",
      "访问url链接\n",
      "第2此访问失败，等待3秒后尝试\n",
      "访问url链接\n",
      "第3此访问失败，等待3秒后尝试\n",
      "超过最大尝试次数，停止访问\n",
      "[1, 2, 3, 4, 5]\n"
     ]
    }
   ],
   "source": [
    "max_try_count = 3\n",
    "timesleep = 3\n",
    "flag = True\n",
    "page = 1\n",
    "data = []\n",
    "while flag:\n",
    "    print('='*10)\n",
    "    print('构造url链接')\n",
    "    print('正在访问第%d页' % page)\n",
    "    i = 0\n",
    "    while i < max_try_count:\n",
    "        try:\n",
    "            i += 1\n",
    "            print('访问url链接')\n",
    "            assert page != error_page\n",
    "            print('获取数据，传给变量')\n",
    "            data.append(page)  # 扩充数据\n",
    "        except:\n",
    "            print('第%d此访问失败，等待3秒后尝试' % (i))\n",
    "            time.sleep(timesleep)\n",
    "           #  continue    \n",
    "        else:\n",
    "            print('访问成功')\n",
    "            break\n",
    "    else:\n",
    "        print('超过最大尝试次数，停止访问')\n",
    "        flag = False\n",
    "    \n",
    "    page += 1\n",
    "\n",
    "print(data)"
   ]
  },
  {
   "cell_type": "markdown",
   "id": "e1ac9036",
   "metadata": {},
   "source": [
    " "
   ]
  },
  {
   "cell_type": "code",
   "execution_count": null,
   "id": "5f8236b0",
   "metadata": {},
   "outputs": [],
   "source": []
  },
  {
   "cell_type": "code",
   "execution_count": null,
   "id": "28483611",
   "metadata": {},
   "outputs": [],
   "source": []
  },
  {
   "cell_type": "code",
   "execution_count": null,
   "id": "8bf807f8",
   "metadata": {},
   "outputs": [],
   "source": []
  },
  {
   "cell_type": "code",
   "execution_count": null,
   "id": "b1cfd876",
   "metadata": {},
   "outputs": [],
   "source": []
  },
  {
   "cell_type": "code",
   "execution_count": null,
   "id": "de9c240a",
   "metadata": {},
   "outputs": [],
   "source": []
  },
  {
   "cell_type": "code",
   "execution_count": null,
   "id": "03b42364",
   "metadata": {},
   "outputs": [],
   "source": []
  },
  {
   "cell_type": "code",
   "execution_count": null,
   "id": "c52e6447",
   "metadata": {},
   "outputs": [],
   "source": []
  },
  {
   "cell_type": "code",
   "execution_count": null,
   "id": "cc5ca024",
   "metadata": {},
   "outputs": [],
   "source": []
  },
  {
   "cell_type": "code",
   "execution_count": null,
   "id": "7a3cf78c",
   "metadata": {},
   "outputs": [],
   "source": []
  },
  {
   "cell_type": "code",
   "execution_count": null,
   "id": "782864ec",
   "metadata": {},
   "outputs": [],
   "source": []
  },
  {
   "cell_type": "code",
   "execution_count": null,
   "id": "7561dded",
   "metadata": {},
   "outputs": [],
   "source": []
  },
  {
   "cell_type": "code",
   "execution_count": null,
   "id": "70a06a09",
   "metadata": {},
   "outputs": [],
   "source": []
  },
  {
   "cell_type": "code",
   "execution_count": null,
   "id": "85a29ee9",
   "metadata": {},
   "outputs": [],
   "source": []
  },
  {
   "cell_type": "code",
   "execution_count": null,
   "id": "1cf85788",
   "metadata": {},
   "outputs": [],
   "source": []
  },
  {
   "cell_type": "code",
   "execution_count": null,
   "id": "23836bd7",
   "metadata": {},
   "outputs": [],
   "source": []
  },
  {
   "cell_type": "code",
   "execution_count": null,
   "id": "3bfcaf75",
   "metadata": {},
   "outputs": [],
   "source": []
  },
  {
   "cell_type": "code",
   "execution_count": null,
   "id": "8f2c68c2",
   "metadata": {},
   "outputs": [],
   "source": []
  },
  {
   "cell_type": "code",
   "execution_count": null,
   "id": "d53f3127",
   "metadata": {},
   "outputs": [],
   "source": []
  },
  {
   "cell_type": "code",
   "execution_count": null,
   "id": "0e61109a",
   "metadata": {},
   "outputs": [],
   "source": []
  },
  {
   "cell_type": "code",
   "execution_count": null,
   "id": "2fb64c2d",
   "metadata": {},
   "outputs": [],
   "source": []
  },
  {
   "cell_type": "code",
   "execution_count": null,
   "id": "3deb1188",
   "metadata": {},
   "outputs": [],
   "source": []
  },
  {
   "cell_type": "code",
   "execution_count": null,
   "id": "2c528e8b",
   "metadata": {},
   "outputs": [],
   "source": []
  },
  {
   "cell_type": "code",
   "execution_count": null,
   "id": "4ac280f5",
   "metadata": {},
   "outputs": [],
   "source": []
  },
  {
   "cell_type": "code",
   "execution_count": null,
   "id": "683c6387",
   "metadata": {},
   "outputs": [],
   "source": []
  },
  {
   "cell_type": "code",
   "execution_count": null,
   "id": "62fc3f6f",
   "metadata": {},
   "outputs": [],
   "source": []
  },
  {
   "cell_type": "code",
   "execution_count": null,
   "id": "9a6e2a35",
   "metadata": {},
   "outputs": [],
   "source": []
  },
  {
   "cell_type": "code",
   "execution_count": null,
   "id": "5bfad4f3",
   "metadata": {},
   "outputs": [],
   "source": []
  },
  {
   "cell_type": "code",
   "execution_count": null,
   "id": "9a74b3d0",
   "metadata": {},
   "outputs": [],
   "source": []
  }
 ],
 "metadata": {
  "kernelspec": {
   "display_name": "Python 3 (ipykernel)",
   "language": "python",
   "name": "python3"
  },
  "language_info": {
   "codemirror_mode": {
    "name": "ipython",
    "version": 3
   },
   "file_extension": ".py",
   "mimetype": "text/x-python",
   "name": "python",
   "nbconvert_exporter": "python",
   "pygments_lexer": "ipython3",
   "version": "3.9.13"
  }
 },
 "nbformat": 4,
 "nbformat_minor": 5
}
