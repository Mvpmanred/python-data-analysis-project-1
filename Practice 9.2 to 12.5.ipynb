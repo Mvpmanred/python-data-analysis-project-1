{
 "cells": [
  {
   "cell_type": "markdown",
   "id": "b733acc6",
   "metadata": {},
   "source": [
    "练习9-2\n",
    "\n",
    "集合和字典的异同"
   ]
  },
  {
   "cell_type": "code",
   "execution_count": 2,
   "id": "58d15b0d",
   "metadata": {},
   "outputs": [
    {
     "data": {
      "text/plain": [
       "{1, 2, 3, 4, 5}"
      ]
     },
     "execution_count": 2,
     "metadata": {},
     "output_type": "execute_result"
    }
   ],
   "source": [
    "some_set = {1, 1, 2, 2, 3, 4} \n",
    "filled_set = some_set.copy()\n",
    "filled_set.add(5)  # filled_set现在是{1, 2, 3, 4, 5}\n",
    "filled_set"
   ]
  },
  {
   "cell_type": "code",
   "execution_count": 5,
   "id": "4c0e0c59",
   "metadata": {},
   "outputs": [
    {
     "data": {
      "text/plain": [
       "{1, 2, 3, 4, 5, 6}"
      ]
     },
     "execution_count": 5,
     "metadata": {},
     "output_type": "execute_result"
    }
   ],
   "source": [
    "# 用|取并集\n",
    "filled_set | other_set  # => {1, 2, 3, 4, 5, 6}"
   ]
  },
  {
   "cell_type": "code",
   "execution_count": 4,
   "id": "b4b0d78e",
   "metadata": {},
   "outputs": [
    {
     "data": {
      "text/plain": [
       "{3, 4, 5}"
      ]
     },
     "execution_count": 4,
     "metadata": {},
     "output_type": "execute_result"
    }
   ],
   "source": [
    "# 用&取交集\n",
    "other_set = {3, 4, 5, 6}\n",
    "filled_set & other_set  # => {3, 4, 5}"
   ]
  },
  {
   "cell_type": "code",
   "execution_count": 6,
   "id": "52a2274f",
   "metadata": {},
   "outputs": [
    {
     "data": {
      "text/plain": [
       "{1, 4}"
      ]
     },
     "execution_count": 6,
     "metadata": {},
     "output_type": "execute_result"
    }
   ],
   "source": [
    "# 用-取差集 （返回一个包含所有存在于第一个集合且不存在于第二个集合的元素的新集合—）\n",
    "{1, 2, 3, 4} - {2, 3, 5}  # => {1, 4}"
   ]
  },
  {
   "cell_type": "code",
   "execution_count": 7,
   "id": "419bfd5b",
   "metadata": {},
   "outputs": [
    {
     "data": {
      "text/plain": [
       "{1, 4, 5}"
      ]
     },
     "execution_count": 7,
     "metadata": {},
     "output_type": "execute_result"
    }
   ],
   "source": [
    "# 用^剔除交集\n",
    "{1, 2, 3, 4} ^ {2, 3, 5}  # => {1, 4, 5}"
   ]
  },
  {
   "cell_type": "code",
   "execution_count": 8,
   "id": "14233dab",
   "metadata": {},
   "outputs": [
    {
     "data": {
      "text/plain": [
       "False"
      ]
     },
     "execution_count": 8,
     "metadata": {},
     "output_type": "execute_result"
    }
   ],
   "source": [
    "# 检查左侧的集合是否是右侧集合的父集\n",
    "{1, 2} >= {1, 2, 3} # => False"
   ]
  },
  {
   "cell_type": "code",
   "execution_count": 9,
   "id": "6beea67d",
   "metadata": {},
   "outputs": [
    {
     "data": {
      "text/plain": [
       "True"
      ]
     },
     "execution_count": 9,
     "metadata": {},
     "output_type": "execute_result"
    }
   ],
   "source": [
    "# 检查左侧的集合是否是右侧集合的子集\n",
    "{1, 2} <= {1, 2, 3} # => True"
   ]
  },
  {
   "cell_type": "code",
   "execution_count": 10,
   "id": "7cbb9a12",
   "metadata": {},
   "outputs": [
    {
     "name": "stdout",
     "output_type": "stream",
     "text": [
      "True\n",
      "False\n"
     ]
    }
   ],
   "source": [
    "# 用in检查集合是否包含该元素\n",
    "print(2 in filled_set)   # => True\n",
    "print(10 in filled_set)  # => False"
   ]
  },
  {
   "cell_type": "code",
   "execution_count": 3,
   "id": "6b589d00",
   "metadata": {},
   "outputs": [
    {
     "name": "stdout",
     "output_type": "stream",
     "text": [
      "False\n"
     ]
    }
   ],
   "source": [
    "print ({1} in filled_set)\n"
   ]
  },
  {
   "cell_type": "markdown",
   "id": "8d23dc48",
   "metadata": {},
   "source": [
    "if语句"
   ]
  },
  {
   "cell_type": "markdown",
   "id": "46a00345",
   "metadata": {},
   "source": [
    "Note\n",
    "\n",
    "条件语句语法如下：\n",
    "\n",
    "if 条件A（结果为布尔值，True或者False）:\n",
    "    执行相关操作1（需要缩进）\n",
    "    ......\n",
    "\n",
    "\n",
    "elif 条件B（结果为布尔值，True或者False）:\n",
    "    执行相关操作2\n",
    "    ......\n",
    "\n",
    "else:\n",
    "    执行相关操作3\n",
    "\n",
    "\n",
    "条件语句解释说明如下：\n",
    "\n",
    "\n",
    "若条件A为True，那么执行相关操作1，程序结束\n",
    "若条件A为False，那么判断条件B，若条件B为True，那么执行相关操作2，程序结束\n",
    "若条件A为False，那么判断条件B，若条件B为False，那么执行相关操作3，程序结束\n",
    "条件语句注意事项如下：\n",
    "\n",
    "\n",
    "不同条件间要保持互斥\n",
    "不同条件的并集，尽可能等于全事件\n",
    "条件下的执行内容必须保持缩进"
   ]
  },
  {
   "cell_type": "markdown",
   "id": "615dfc84",
   "metadata": {},
   "source": [
    "练习10-1"
   ]
  },
  {
   "cell_type": "code",
   "execution_count": 11,
   "id": "2ccfb255",
   "metadata": {},
   "outputs": [
    {
     "name": "stdout",
     "output_type": "stream",
     "text": [
      "ST123456 连续出现两个会计年度的亏损\n"
     ]
    }
   ],
   "source": [
    "# 简单的if语句\n",
    "stock_name =\"ST123456\"\n",
    "if stock_name.startswith('ST'):\n",
    "    print(stock_name,\"连续出现两个会计年度的亏损\")"
   ]
  },
  {
   "cell_type": "code",
   "execution_count": 12,
   "id": "f6dcdf65",
   "metadata": {},
   "outputs": [
    {
     "name": "stdout",
     "output_type": "stream",
     "text": [
      "ST123456 连续出现两个会计年度的亏损\n"
     ]
    }
   ],
   "source": [
    "#if-else\n",
    "stock_name = 'ST123456'\n",
    "if stock_name.startswith('ST'):\n",
    "    print(stock_name,\"连续出现两个会计年度的亏损\")\n",
    "else:\n",
    "    print(stock_name)"
   ]
  },
  {
   "cell_type": "code",
   "execution_count": 18,
   "id": "df9347a7",
   "metadata": {},
   "outputs": [
    {
     "name": "stdout",
     "output_type": "stream",
     "text": [
      "输入数字：29\n",
      "You are an adult. \n"
     ]
    }
   ],
   "source": [
    "#if-elif-else\n",
    "\n",
    "age = float(input('输入数字：'))\n",
    "# 这是个if语句。注意缩进在Python里是有意义的\n",
    "# 通常用四个空格做缩进，而不是用四个tab\n",
    "# 下面的if语句最后会打印出\"some_var is smaller than 10\"\n",
    "if age > 18:\n",
    "    print(\"You are an adult. \")\n",
    "elif age < 18:\n",
    "    print(\"You are under age.\")\n",
    "else:\n",
    "    print(\"You are 18.\")"
   ]
  },
  {
   "cell_type": "code",
   "execution_count": 21,
   "id": "731f5e36",
   "metadata": {},
   "outputs": [
    {
     "name": "stdout",
     "output_type": "stream",
     "text": [
      "输入数字：99\n",
      "You are long-lived.\n"
     ]
    }
   ],
   "source": [
    "# 多个elif\n",
    "\n",
    "age=float(input(\"输入数字：\"))\n",
    "if 18<age <=40:\n",
    "    print(\"You are an adult.\")\n",
    "elif 40 < age < 60:\n",
    "    print('You are middle-aged')\n",
    "elif age<18:\n",
    "    print(\"You are young.\")\n",
    "else: # 尝试省略else\n",
    "    print(\"You are long-lived.\")"
   ]
  },
  {
   "cell_type": "code",
   "execution_count": 22,
   "id": "89b5427c",
   "metadata": {},
   "outputs": [
    {
     "name": "stdout",
     "output_type": "stream",
     "text": [
      "ST123456 连续出现两个会计年度的亏损\n",
      "继续执行去缩进的代码逻辑\n"
     ]
    }
   ],
   "source": [
    "# if结束后的代码操作\n",
    "stock_name = 'ST123456'\n",
    "if stock_name.startswith('ST'):\n",
    "    print(stock_name, \"连续出现两个会计年度的亏损\")\n",
    "\n",
    "print('继续执行去缩进的代码逻辑') #independent from if"
   ]
  },
  {
   "cell_type": "code",
   "execution_count": 25,
   "id": "894072ed",
   "metadata": {},
   "outputs": [
    {
     "name": "stdout",
     "output_type": "stream",
     "text": [
      "ST123456 连续出现两个会计年度的亏损\n",
      "查找股票...\n",
      "\n",
      "sh123456 沪市股\n"
     ]
    }
   ],
   "source": [
    "# 测试多个条件(同一个事件不同情况 用if-elif-else);(不同事件用if-if-if)\n",
    "stock_name = 'ST123456'\n",
    "if stock_name.startswith('ST'):\n",
    "    print(stock_name, \"连续出现两个会计年度的亏损\")\n",
    "print('查找股票...\\n')\n",
    "stock_name = stock_name.replace('ST', 'sh')\n",
    "if stock_name.startswith('sh'):\n",
    "    print(stock_name, '沪市股')\n",
    "if stock_name.startswith('sz'):\n",
    "    print(stock_name, '深市股')"
   ]
  },
  {
   "cell_type": "markdown",
   "id": "796d6b3e",
   "metadata": {},
   "source": [
    "常见问题\n",
    "四个空格和tab缩进有什么区别？-->用四个空格（尽量避免用tap）\n",
    "缩进与执行语句的关系（归属if)"
   ]
  },
  {
   "cell_type": "markdown",
   "id": "4afefc88",
   "metadata": {},
   "source": [
    "练习10-2"
   ]
  },
  {
   "cell_type": "code",
   "execution_count": 2,
   "id": "114e0b56",
   "metadata": {},
   "outputs": [
    {
     "name": "stdout",
     "output_type": "stream",
     "text": [
      "没有涨停\n"
     ]
    }
   ],
   "source": [
    "# if语句高级写法\n",
    "# 判断股票是否涨停\n",
    "stock_change = 0.01\n",
    "if stock_change >= 0.1:\n",
    "    status = '涨停'\n",
    "else:\n",
    "    status = '没有涨停'\n",
    "\n",
    "print(status)"
   ]
  },
  {
   "cell_type": "code",
   "execution_count": 5,
   "id": "7ff7a980",
   "metadata": {},
   "outputs": [],
   "source": [
    "# 变量名 = 满足条件时候要显示的内容 if 条件 else 不满足条件的时候要显示的内容\n",
    "stock_change = 0.2\n",
    "status =\"涨停\" if stock_change >=0.1 else \"没有涨停\""
   ]
  },
  {
   "cell_type": "code",
   "execution_count": 6,
   "id": "c3795092",
   "metadata": {},
   "outputs": [
    {
     "name": "stdout",
     "output_type": "stream",
     "text": [
      "0.2 涨停\n"
     ]
    }
   ],
   "source": [
    "print (stock_change, status)"
   ]
  },
  {
   "cell_type": "code",
   "execution_count": 8,
   "id": "31f54b25",
   "metadata": {},
   "outputs": [
    {
     "name": "stdout",
     "output_type": "stream",
     "text": [
      "没有涨停\n"
     ]
    }
   ],
   "source": [
    "# 变量名 = (不满足条件的时候要显示的内容, 满足条件时候要显示的内容)[条件]\n",
    "stock_change = 0.01\n",
    "status =(\"没有涨停\",\"涨停\")[stock_change >=0.1]\n",
    "print (status)"
   ]
  },
  {
   "cell_type": "code",
   "execution_count": 27,
   "id": "17c66805",
   "metadata": {},
   "outputs": [
    {
     "name": "stdout",
     "output_type": "stream",
     "text": [
      "9 未成年\n"
     ]
    }
   ],
   "source": [
    "age_is =9\n",
    "age_status = \"未成年\" if age_is <=18 else \"已经成年\"\n",
    "\n",
    "print(age_is, age_status)"
   ]
  },
  {
   "cell_type": "code",
   "execution_count": 40,
   "id": "df7714d9",
   "metadata": {},
   "outputs": [
    {
     "name": "stdout",
     "output_type": "stream",
     "text": [
      "180 overbought\n"
     ]
    }
   ],
   "source": [
    "AMD_price =180\n",
    "price_status =\"overbought\" if AMD_price >=180 else \"oversold\"\n",
    "\n",
    "print(AMD_price, price_status)\n"
   ]
  },
  {
   "cell_type": "markdown",
   "id": "bfa2f362",
   "metadata": {},
   "source": [
    "range函数\n",
    "\n",
    "产生一个类似于[0, 1, 2, 3, ...]这样的一个列表\n",
    "可以用range生成一串有规则的数字列表"
   ]
  },
  {
   "cell_type": "markdown",
   "id": "2d986da4",
   "metadata": {},
   "source": [
    "练习11"
   ]
  },
  {
   "cell_type": "code",
   "execution_count": 43,
   "id": "ded352d0",
   "metadata": {},
   "outputs": [],
   "source": [
    "range?"
   ]
  },
  {
   "cell_type": "code",
   "execution_count": 44,
   "id": "5ab95d8d",
   "metadata": {},
   "outputs": [
    {
     "data": {
      "text/plain": [
       "range(0, 10)"
      ]
     },
     "execution_count": 44,
     "metadata": {},
     "output_type": "execute_result"
    }
   ],
   "source": [
    "# range(number)\n",
    "# 从0到给定的数字\n",
    "range(10)  # 得到近似列表[0,1,2,3,4]的返回值"
   ]
  },
  {
   "cell_type": "code",
   "execution_count": 45,
   "id": "9d04aeaf",
   "metadata": {},
   "outputs": [
    {
     "data": {
      "text/plain": [
       "range(2, 6)"
      ]
     },
     "execution_count": 45,
     "metadata": {},
     "output_type": "execute_result"
    }
   ],
   "source": [
    "# range(lower, upper)\n",
    "# 从lower到upper\n",
    "range(2, 6)  # 得到近似列表[2,3,4,5]的返回值"
   ]
  },
  {
   "cell_type": "code",
   "execution_count": 46,
   "id": "1a6b88f9",
   "metadata": {},
   "outputs": [
    {
     "data": {
      "text/plain": [
       "range(4, 8, 2)"
      ]
     },
     "execution_count": 46,
     "metadata": {},
     "output_type": "execute_result"
    }
   ],
   "source": [
    "# range(lower, upper, step)\n",
    "# 从lower到upper，以step为 步长累加. \n",
    "# 默认的step是1\n",
    "range(4, 8, 2)  # 得到近似列表[4,6]的返回值 #use list"
   ]
  },
  {
   "cell_type": "code",
   "execution_count": 54,
   "id": "80553d4a",
   "metadata": {},
   "outputs": [
    {
     "data": {
      "text/plain": [
       "[0, 3, 6, 9]"
      ]
     },
     "execution_count": 54,
     "metadata": {},
     "output_type": "execute_result"
    }
   ],
   "source": [
    "# 强制转换成list格式\n",
    "list(range(0, 10, 3))"
   ]
  },
  {
   "cell_type": "code",
   "execution_count": 55,
   "id": "f67ff0f0",
   "metadata": {},
   "outputs": [
    {
     "data": {
      "text/plain": [
       "[0, 2, 4, 6, 8]"
      ]
     },
     "execution_count": 55,
     "metadata": {},
     "output_type": "execute_result"
    }
   ],
   "source": [
    "# 强制转换成list格式\n",
    "list(range(0, 10, 2))"
   ]
  },
  {
   "cell_type": "code",
   "execution_count": 56,
   "id": "337e4366",
   "metadata": {},
   "outputs": [
    {
     "data": {
      "text/plain": [
       "[4, 6]"
      ]
     },
     "execution_count": 56,
     "metadata": {},
     "output_type": "execute_result"
    }
   ],
   "source": [
    "list(range(4,8,2))"
   ]
  },
  {
   "cell_type": "code",
   "execution_count": 58,
   "id": "f9c23c50",
   "metadata": {},
   "outputs": [
    {
     "data": {
      "text/plain": [
       "[10, 9, 8, 7, 6, 5, 4, 3, 2, 1]"
      ]
     },
     "execution_count": 58,
     "metadata": {},
     "output_type": "execute_result"
    }
   ],
   "source": [
    "range(10,0,-1)\n",
    "list(range(10,0,-1))"
   ]
  },
  {
   "cell_type": "markdown",
   "id": "2cfa431c",
   "metadata": {},
   "source": [
    "for循环"
   ]
  },
  {
   "cell_type": "markdown",
   "id": "ae8e6482",
   "metadata": {},
   "source": [
    "所有可迭代对象(iterable)都可以通过for循环遍历里面的所有内容，如list、tuple、dict、range等\n",
    "\n",
    "for循环语法如下：\n",
    "\n",
    "for 变量 in 可迭代对象:\n",
    "    循环执行语句\n",
    "    ...\n",
    "for循环解释说明如下：\n",
    "\n",
    "每次循环提取可迭代对象内一个元素，赋值给in前面的变量\n",
    "可迭代对象内所有元素被遍历完后，循环结束\n",
    "循环次数和可迭代对象内元素个数有关"
   ]
  },
  {
   "cell_type": "markdown",
   "id": "c7c26ece",
   "metadata": {},
   "source": [
    "练习12-1"
   ]
  },
  {
   "cell_type": "code",
   "execution_count": 62,
   "id": "7fc0191e",
   "metadata": {},
   "outputs": [
    {
     "name": "stdout",
     "output_type": "stream",
     "text": [
      "alice\n",
      "david\n",
      "caroline\n"
     ]
    }
   ],
   "source": [
    "# 用for循环遍历整个列表\n",
    "names=['alice','david','caroline']\n",
    "for name in names:\n",
    "    print(name)"
   ]
  },
  {
   "cell_type": "code",
   "execution_count": 63,
   "id": "35837805",
   "metadata": {},
   "outputs": [
    {
     "name": "stdout",
     "output_type": "stream",
     "text": [
      "Alice is a teach. \n",
      "\n",
      "David is a teach. \n",
      "\n",
      "Caroline is a teach. \n",
      "\n"
     ]
    }
   ],
   "source": [
    "# 在for循环中执行更多操作\n",
    "names=['alice','david','caroline']\n",
    "for name in names:\n",
    "    new_name = name.title() #首字母大写\n",
    "    print(f'{new_name} is a teach. \\n')"
   ]
  },
  {
   "cell_type": "code",
   "execution_count": 66,
   "id": "883e80bb",
   "metadata": {},
   "outputs": [
    {
     "name": "stdout",
     "output_type": "stream",
     "text": [
      "Alice is a teacher.\n",
      "He/She is a good teacher\n",
      "\n",
      "David is a teacher.\n",
      "He/She is a good teacher\n",
      "\n",
      "Carolina is a teacher.\n",
      "He/She is a good teacher\n",
      "\n",
      "They are all very good teachers.\n"
     ]
    }
   ],
   "source": [
    "# for循环之后执行一些操作\n",
    "names = ['alice', 'david', 'carolina']\n",
    "for name in names:\n",
    "    new_name = name.title()\n",
    "    print(f'{new_name} is a teacher.')\n",
    "    print('He/She is a good teacher\\n')\n",
    "\n",
    "print('They are all very good teachers.')"
   ]
  },
  {
   "cell_type": "markdown",
   "id": "a27c3ea2",
   "metadata": {},
   "source": [
    "常见问题\n",
    "\n",
    "忘记缩进——for语句后的代码行缩进 # indentation error\n",
    "\n",
    "忘记缩进——额外的代码行缩进\n",
    "\n",
    "不必要缩进——非控制流\n",
    "\n",
    "不必要缩进——循环结束后\n",
    "\n",
    "遗漏了冒号"
   ]
  },
  {
   "cell_type": "markdown",
   "id": "b9e3c297",
   "metadata": {},
   "source": [
    "练习12-2\n",
    "python中，for循环能遍历的对象并不局限于列表\n",
    "所有可迭代(iterable)对象都可以被for循环遍历"
   ]
  },
  {
   "cell_type": "code",
   "execution_count": null,
   "id": "fc29c160",
   "metadata": {},
   "outputs": [],
   "source": [
    "# Python提供一个叫做可迭代(iterable)的基本抽象。\n",
    "# 一个可迭代对象可以被当做序列\n",
    "# 比如说上面range返回的对象就是可迭代的。\n",
    "\n"
   ]
  },
  {
   "cell_type": "code",
   "execution_count": 69,
   "id": "8fd98e19",
   "metadata": {},
   "outputs": [
    {
     "name": "stdout",
     "output_type": "stream",
     "text": [
      "dict_keys(['one', 'two', 'three'])\n"
     ]
    }
   ],
   "source": [
    "filled_dict = {\"one\": 1, \"two\": 2, \"three\": 3}\n",
    "our_iterable = filled_dict.keys() #keys vs value\n",
    "print(our_iterable)  \n",
    "# => dict_keys(['one', 'two', 'three'])，是一个实现可迭代接口的对象"
   ]
  },
  {
   "cell_type": "code",
   "execution_count": 70,
   "id": "da69918e",
   "metadata": {},
   "outputs": [
    {
     "name": "stdout",
     "output_type": "stream",
     "text": [
      "one\n",
      "two\n",
      "three\n",
      "循环外的代码\n"
     ]
    }
   ],
   "source": [
    "# 可迭代对象是可以遍历的\n",
    "for i in our_iterable:\n",
    "    print(i)  # 打印 one, two, three\n",
    "    \n",
    "print('循环外的代码')"
   ]
  },
  {
   "cell_type": "code",
   "execution_count": 79,
   "id": "b79b0485",
   "metadata": {},
   "outputs": [
    {
     "name": "stdout",
     "output_type": "stream",
     "text": [
      "dict_values([1, 2, 3])\n"
     ]
    }
   ],
   "source": [
    "our_iterable2 = filled_dict.values()\n",
    "print(our_iterable2)"
   ]
  },
  {
   "cell_type": "code",
   "execution_count": 80,
   "id": "8aa8ea9c",
   "metadata": {},
   "outputs": [
    {
     "name": "stdout",
     "output_type": "stream",
     "text": [
      "1\n",
      "2\n",
      "3\n"
     ]
    }
   ],
   "source": [
    "for i in our_iterable2:\n",
    "    print(i)"
   ]
  },
  {
   "cell_type": "code",
   "execution_count": 71,
   "id": "2f3c7c05",
   "metadata": {},
   "outputs": [
    {
     "name": "stdout",
     "output_type": "stream",
     "text": [
      "True\n",
      "True\n",
      "True\n"
     ]
    },
    {
     "name": "stderr",
     "output_type": "stream",
     "text": [
      "C:\\Users\\huang\\AppData\\Local\\Temp\\ipykernel_14476\\4291358141.py:2: DeprecationWarning: Using or importing the ABCs from 'collections' instead of from 'collections.abc' is deprecated since Python 3.3, and in 3.10 it will stop working\n",
      "  from collections import Iterable\n"
     ]
    }
   ],
   "source": [
    "# 调用collections模块中的Iterable对象，结合isinstance函数进行判断来判断对象是否可迭代\n",
    "from collections import Iterable\n",
    "print(isinstance(our_iterable, Iterable))\n",
    "print(isinstance(filled_dict, Iterable))\n",
    "print(isinstance('abc', Iterable))"
   ]
  },
  {
   "cell_type": "code",
   "execution_count": 72,
   "id": "a2ac3f75",
   "metadata": {},
   "outputs": [
    {
     "data": {
      "text/plain": [
       "False"
      ]
     },
     "execution_count": 72,
     "metadata": {},
     "output_type": "execute_result"
    }
   ],
   "source": [
    "isinstance(1.2, int)"
   ]
  },
  {
   "cell_type": "code",
   "execution_count": 73,
   "id": "86363890",
   "metadata": {},
   "outputs": [
    {
     "data": {
      "text/plain": [
       "False"
      ]
     },
     "execution_count": 73,
     "metadata": {},
     "output_type": "execute_result"
    }
   ],
   "source": [
    "isinstance(1234, Iterable)"
   ]
  },
  {
   "cell_type": "code",
   "execution_count": 81,
   "id": "6bd09ba3",
   "metadata": {},
   "outputs": [
    {
     "data": {
      "text/plain": [
       "True"
      ]
     },
     "execution_count": 81,
     "metadata": {},
     "output_type": "execute_result"
    }
   ],
   "source": [
    "isinstance(1.2,float)"
   ]
  },
  {
   "cell_type": "markdown",
   "id": "c5eb1def",
   "metadata": {},
   "source": [
    "常见问题\n",
    "不理解可迭代对象的概念\n",
    "练习12-3"
   ]
  },
  {
   "cell_type": "code",
   "execution_count": 77,
   "id": "fde96432",
   "metadata": {},
   "outputs": [
    {
     "name": "stdout",
     "output_type": "stream",
     "text": [
      "我来了\n",
      "我来了\n"
     ]
    }
   ],
   "source": [
    "# 用for循环执行三遍重复操作\n",
    "for _ in range(2):\n",
    "    print('我来了')"
   ]
  },
  {
   "cell_type": "code",
   "execution_count": 82,
   "id": "fedc381c",
   "metadata": {},
   "outputs": [
    {
     "name": "stdout",
     "output_type": "stream",
     "text": [
      "dog is a mammal\n",
      "cat is a mammal\n",
      "mouse is a mammal\n"
     ]
    }
   ],
   "source": [
    "# 用for循环遍历列表\n",
    "for animal in ['dog','cat','mouse']:\n",
    "    # 用format()插入格式化字符串\n",
    "    print('{} is a mammal'.format(animal))\n",
    "    "
   ]
  },
  {
   "cell_type": "code",
   "execution_count": 83,
   "id": "a0cc2cd6",
   "metadata": {},
   "outputs": [
    {
     "name": "stdout",
     "output_type": "stream",
     "text": [
      "code sh000001\n",
      "name 上证指数\n",
      "open 3058.8\n",
      "high 3087.0\n",
      "low 3041.96\n",
      "close 3043.03\n",
      "vol 3668000000.0\n"
     ]
    }
   ],
   "source": [
    "# 用for循环遍历字典\n",
    "# 练习8-4\n",
    "\n",
    "dict_var ={\n",
    "     'code': 'sh000001',\n",
    "    'name': '上证指数',\n",
    "    'open': 3058.8,\n",
    "    'high': 3087.0,\n",
    "    'low': 3041.96,\n",
    "    'close': 3043.03,\n",
    "    'vol': 3.668E9\n",
    "}\n",
    "# for i in dict_var:\n",
    "#     print(i)\n",
    "for k, v in dict_var.items():\n",
    "    print(k, v)"
   ]
  },
  {
   "cell_type": "code",
   "execution_count": 84,
   "id": "561ea582",
   "metadata": {},
   "outputs": [
    {
     "name": "stdout",
     "output_type": "stream",
     "text": [
      "0 alice\n",
      "1 david\n",
      "2 carolina\n"
     ]
    }
   ],
   "source": [
    "for i, v in enumerate(names):\n",
    "    print(i, v)"
   ]
  },
  {
   "cell_type": "code",
   "execution_count": 86,
   "id": "c94ba343",
   "metadata": {},
   "outputs": [
    {
     "data": {
      "text/plain": [
       "[(0, 'alice'), (1, 'david'), (2, 'carolina')]"
      ]
     },
     "execution_count": 86,
     "metadata": {},
     "output_type": "execute_result"
    }
   ],
   "source": [
    "list(enumerate(names))"
   ]
  },
  {
   "cell_type": "code",
   "execution_count": 96,
   "id": "95f8e793",
   "metadata": {},
   "outputs": [
    {
     "name": "stdout",
     "output_type": "stream",
     "text": [
      "第1次\n",
      "第2次\n",
      "1 12\n"
     ]
    }
   ],
   "source": [
    "li = list(range(4,8,2)) #4 is 0, 0+ 1 = 第1次 # 6 is 1, 1+1 =2, x2 = 12 #list:4,6,8\n",
    "for i,v in enumerate(li):\n",
    "    v *=2\n",
    "    print(f'第{i+1}次')\n",
    "print(i,v)"
   ]
  },
  {
   "cell_type": "code",
   "execution_count": 97,
   "id": "edbb17bf",
   "metadata": {},
   "outputs": [
    {
     "name": "stdout",
     "output_type": "stream",
     "text": [
      "8\n",
      "12\n"
     ]
    }
   ],
   "source": [
    "# 用for循环遍历range()\n",
    "for i in range(4, 8, 2):\n",
    "    print(i*2)"
   ]
  },
  {
   "cell_type": "code",
   "execution_count": 99,
   "id": "e5e01c31",
   "metadata": {},
   "outputs": [
    {
     "data": {
      "text/plain": [
       "6"
      ]
     },
     "execution_count": 99,
     "metadata": {},
     "output_type": "execute_result"
    }
   ],
   "source": [
    "i #最后一次的赋值\n"
   ]
  },
  {
   "cell_type": "markdown",
   "id": "e0b1b5fe",
   "metadata": {},
   "source": [
    "练习12-4"
   ]
  },
  {
   "cell_type": "code",
   "execution_count": 109,
   "id": "016fd488",
   "metadata": {},
   "outputs": [
    {
     "data": {
      "text/plain": [
       "[1,\n",
       " 2,\n",
       " 4,\n",
       " 5,\n",
       " 7,\n",
       " 8,\n",
       " 10,\n",
       " 11,\n",
       " 13,\n",
       " 14,\n",
       " 16,\n",
       " 17,\n",
       " 19,\n",
       " 20,\n",
       " 22,\n",
       " 23,\n",
       " 25,\n",
       " 26,\n",
       " 28,\n",
       " 29,\n",
       " 31,\n",
       " 32,\n",
       " 34,\n",
       " 35,\n",
       " 37,\n",
       " 38,\n",
       " 40,\n",
       " 41,\n",
       " 43,\n",
       " 44,\n",
       " 46,\n",
       " 47,\n",
       " 49,\n",
       " 50,\n",
       " 52,\n",
       " 53,\n",
       " 55,\n",
       " 56,\n",
       " 58,\n",
       " 59,\n",
       " 61,\n",
       " 62,\n",
       " 64,\n",
       " 65,\n",
       " 67,\n",
       " 68,\n",
       " 70,\n",
       " 71,\n",
       " 73,\n",
       " 74,\n",
       " 76,\n",
       " 77,\n",
       " 79,\n",
       " 80,\n",
       " 82,\n",
       " 83,\n",
       " 85,\n",
       " 86,\n",
       " 88,\n",
       " 89,\n",
       " 91,\n",
       " 92,\n",
       " 94,\n",
       " 95,\n",
       " 97,\n",
       " 98,\n",
       " 100]"
      ]
     },
     "execution_count": 109,
     "metadata": {},
     "output_type": "execute_result"
    }
   ],
   "source": [
    "# 获取0-100不能被3整除的数字\n",
    "# 封装成一个list\n",
    "\n",
    "ls =[]\n",
    "for i in range(101):\n",
    "    if i%3!=0:\n",
    "        ls.append(i)\n",
    "    \n",
    "ls"
   ]
  },
  {
   "cell_type": "code",
   "execution_count": 107,
   "id": "9d4be507",
   "metadata": {},
   "outputs": [
    {
     "name": "stdout",
     "output_type": "stream",
     "text": [
      "ST123456 连续出现两个会计年度的亏损，将其剔除\n"
     ]
    },
    {
     "data": {
      "text/plain": [
       "['sh12346', 'sz123456']"
      ]
     },
     "execution_count": 107,
     "metadata": {},
     "output_type": "execute_result"
    }
   ],
   "source": [
    "# 判断股票是否为ST股，若是，则剔除\n",
    "stocks =['ST123456','sh12346','sz123456']\n",
    "\n",
    "new_stocks =[]\n",
    "for stock in stocks:\n",
    "    if stock.startswith('ST'):\n",
    "        print(stock, \"连续出现两个会计年度的亏损，将其剔除\")\n",
    "    else:\n",
    "        new_stocks.append(stock)\n",
    "        \n",
    "new_stocks"
   ]
  },
  {
   "cell_type": "code",
   "execution_count": 111,
   "id": "4ee8af84",
   "metadata": {},
   "outputs": [
    {
     "name": "stdout",
     "output_type": "stream",
     "text": [
      "[90 89 13 45 58 36 26 12 94 41 70 68 34 77 61 41 42 30  5 80 91 57 20 84\n",
      " 70 36 64 32 92 45 65 55 34 39 25 99 32 26 31 75 59  6 51 60 13 32 51 23\n",
      " 28]\n"
     ]
    }
   ],
   "source": [
    "import numpy as np\n",
    "scores = np.random.randint(100,size=49)\n",
    "print (scores)"
   ]
  },
  {
   "cell_type": "code",
   "execution_count": 116,
   "id": "7c3871bf",
   "metadata": {},
   "outputs": [
    {
     "data": {
      "text/plain": [
       "{'优秀': 5, '良好': 3, '不及格': 32, '及格': 9}"
      ]
     },
     "execution_count": 116,
     "metadata": {},
     "output_type": "execute_result"
    }
   ],
   "source": [
    "# 创建一个字典\n",
    "# 分别统计分数在60以下, 60-80, 80-90, 90以上的学生人数\n",
    "student_score ={}\n",
    "for s in scores:\n",
    "    if s<60:\n",
    "        student_score[\"不及格\"] = student_score.get(\"不及格\",0) + 1 #人数\n",
    "    elif 60 <= s < 80:\n",
    "        student_score[\"及格\"] = student_score.get(\"及格\",0) + 1\n",
    "    elif 80<= s < 90:\n",
    "        student_score[\"良好\"] =student_score.get(\"良好\",0) + 1\n",
    "    else: \n",
    "        student_score[\"优秀\"]= student_score.get(\"优秀\", 0) + 1\n",
    "\n",
    "student_score"
   ]
  },
  {
   "cell_type": "code",
   "execution_count": 114,
   "id": "e4bee398",
   "metadata": {},
   "outputs": [
    {
     "data": {
      "text/plain": [
       "{'优秀': 5, '良好': 3, '不及格': 32, '及格': 9}"
      ]
     },
     "execution_count": 114,
     "metadata": {},
     "output_type": "execute_result"
    }
   ],
   "source": [
    "student_score = {}\n",
    "for s in scores:\n",
    "    if s < 60:\n",
    "        student_score['不及格'] = student_score.get('不及格', 0) + 1\n",
    "    elif 60 <= s < 80:\n",
    "        student_score['及格'] = student_score.get('及格', 0) + 1\n",
    "    elif 80 <= s < 90:\n",
    "        student_score['良好'] = student_score.get('良好', 0) + 1\n",
    "    else:\n",
    "        student_score['优秀'] = student_score.get('优秀', 0) + 1\n",
    "        \n",
    "student_score"
   ]
  },
  {
   "cell_type": "markdown",
   "id": "c0d8de91",
   "metadata": {},
   "source": [
    "练习12-5"
   ]
  },
  {
   "cell_type": "code",
   "execution_count": 118,
   "id": "d3c4d3f8",
   "metadata": {},
   "outputs": [
    {
     "data": {
      "text/plain": [
       "[0, 1, 2, 3, 4, 5, 6, 7, 8, 9]"
      ]
     },
     "execution_count": 118,
     "metadata": {},
     "output_type": "execute_result"
    }
   ],
   "source": [
    "# 简单的\n",
    "[i for i in range(10)]\n"
   ]
  },
  {
   "cell_type": "code",
   "execution_count": 122,
   "id": "8841c410",
   "metadata": {},
   "outputs": [
    {
     "data": {
      "text/plain": [
       "[10,\n",
       " 20,\n",
       " 40,\n",
       " 50,\n",
       " 70,\n",
       " 80,\n",
       " 100,\n",
       " 110,\n",
       " 130,\n",
       " 140,\n",
       " 160,\n",
       " 170,\n",
       " 190,\n",
       " 200,\n",
       " 220,\n",
       " 230,\n",
       " 250,\n",
       " 260,\n",
       " 280,\n",
       " 290,\n",
       " 310,\n",
       " 320,\n",
       " 340,\n",
       " 350,\n",
       " 370,\n",
       " 380,\n",
       " 400,\n",
       " 410,\n",
       " 430,\n",
       " 440,\n",
       " 460,\n",
       " 470,\n",
       " 490,\n",
       " 500,\n",
       " 520,\n",
       " 530,\n",
       " 550,\n",
       " 560,\n",
       " 580,\n",
       " 590,\n",
       " 610,\n",
       " 620,\n",
       " 640,\n",
       " 650,\n",
       " 670,\n",
       " 680,\n",
       " 700,\n",
       " 710,\n",
       " 730,\n",
       " 740,\n",
       " 760,\n",
       " 770,\n",
       " 790,\n",
       " 800,\n",
       " 820,\n",
       " 830,\n",
       " 850,\n",
       " 860,\n",
       " 880,\n",
       " 890,\n",
       " 910,\n",
       " 920,\n",
       " 940,\n",
       " 950,\n",
       " 970,\n",
       " 980,\n",
       " 1000]"
      ]
     },
     "execution_count": 122,
     "metadata": {},
     "output_type": "execute_result"
    }
   ],
   "source": [
    "[i*10 for i in range(101) if i%3!=0] #不能被3整除 * 10"
   ]
  },
  {
   "cell_type": "code",
   "execution_count": 126,
   "id": "8ef22c83",
   "metadata": {},
   "outputs": [
    {
     "data": {
      "text/plain": [
       "array([0.93016999, 0.99699785, 0.40212431, 0.58821741, 0.21023699,\n",
       "       0.95544321, 0.57432615, 0.57252791, 0.16154563, 0.112731  ])"
      ]
     },
     "execution_count": 126,
     "metadata": {},
     "output_type": "execute_result"
    }
   ],
   "source": [
    "import numpy as np\n",
    "\n",
    "price_change = np.random.rand(10)\n",
    "price_change"
   ]
  },
  {
   "cell_type": "code",
   "execution_count": 127,
   "id": "6d5120a7",
   "metadata": {},
   "outputs": [
    {
     "data": {
      "text/plain": [
       "1.22"
      ]
     },
     "execution_count": 127,
     "metadata": {},
     "output_type": "execute_result"
    }
   ],
   "source": [
    "round(1.222222,2)"
   ]
  },
  {
   "cell_type": "code",
   "execution_count": 128,
   "id": "3cf9b8b4",
   "metadata": {},
   "outputs": [
    {
     "data": {
      "text/plain": [
       "[0.9302, 0.997, 0.4021, 0.5882, 0.2102, 0.9554, 0.5743, 0.5725, 0.1615, 0.1127]"
      ]
     },
     "execution_count": 128,
     "metadata": {},
     "output_type": "execute_result"
    }
   ],
   "source": [
    "[round(p,4)for p in price_change]"
   ]
  },
  {
   "cell_type": "markdown",
   "id": "13b0a641",
   "metadata": {},
   "source": [
    "[符合条件判断是执行的内容 for 变量 in 可迭代对象 if 条件判断]"
   ]
  },
  {
   "cell_type": "markdown",
   "id": "8ffa50b5",
   "metadata": {},
   "source": [
    " "
   ]
  },
  {
   "cell_type": "code",
   "execution_count": null,
   "id": "742266a4",
   "metadata": {},
   "outputs": [],
   "source": []
  },
  {
   "cell_type": "code",
   "execution_count": null,
   "id": "879c9b88",
   "metadata": {},
   "outputs": [],
   "source": []
  },
  {
   "cell_type": "code",
   "execution_count": null,
   "id": "e235b659",
   "metadata": {},
   "outputs": [],
   "source": []
  },
  {
   "cell_type": "code",
   "execution_count": null,
   "id": "b2817b66",
   "metadata": {},
   "outputs": [],
   "source": []
  },
  {
   "cell_type": "code",
   "execution_count": null,
   "id": "d509a7ab",
   "metadata": {},
   "outputs": [],
   "source": []
  },
  {
   "cell_type": "code",
   "execution_count": null,
   "id": "3db28854",
   "metadata": {},
   "outputs": [],
   "source": []
  },
  {
   "cell_type": "code",
   "execution_count": null,
   "id": "d442df64",
   "metadata": {},
   "outputs": [],
   "source": []
  },
  {
   "cell_type": "code",
   "execution_count": null,
   "id": "0fbee792",
   "metadata": {},
   "outputs": [],
   "source": []
  },
  {
   "cell_type": "code",
   "execution_count": null,
   "id": "d01d3a4e",
   "metadata": {},
   "outputs": [],
   "source": []
  },
  {
   "cell_type": "code",
   "execution_count": null,
   "id": "37f250c4",
   "metadata": {},
   "outputs": [],
   "source": []
  },
  {
   "cell_type": "code",
   "execution_count": null,
   "id": "aaef76d8",
   "metadata": {},
   "outputs": [],
   "source": []
  },
  {
   "cell_type": "code",
   "execution_count": null,
   "id": "5361348a",
   "metadata": {},
   "outputs": [],
   "source": []
  },
  {
   "cell_type": "code",
   "execution_count": null,
   "id": "b766c4db",
   "metadata": {},
   "outputs": [],
   "source": []
  },
  {
   "cell_type": "code",
   "execution_count": null,
   "id": "1bf364ba",
   "metadata": {},
   "outputs": [],
   "source": []
  },
  {
   "cell_type": "code",
   "execution_count": null,
   "id": "24264aec",
   "metadata": {},
   "outputs": [],
   "source": []
  },
  {
   "cell_type": "code",
   "execution_count": null,
   "id": "f338aff9",
   "metadata": {},
   "outputs": [],
   "source": []
  },
  {
   "cell_type": "code",
   "execution_count": null,
   "id": "9af3df91",
   "metadata": {},
   "outputs": [],
   "source": []
  }
 ],
 "metadata": {
  "kernelspec": {
   "display_name": "Python 3 (ipykernel)",
   "language": "python",
   "name": "python3"
  },
  "language_info": {
   "codemirror_mode": {
    "name": "ipython",
    "version": 3
   },
   "file_extension": ".py",
   "mimetype": "text/x-python",
   "name": "python",
   "nbconvert_exporter": "python",
   "pygments_lexer": "ipython3",
   "version": "3.9.13"
  }
 },
 "nbformat": 4,
 "nbformat_minor": 5
}
